{
 "cells": [
  {
   "cell_type": "code",
   "execution_count": 1,
   "id": "9f2685b6",
   "metadata": {
    "tags": []
   },
   "outputs": [],
   "source": [
    "## load training and test datasets using torchvision\n",
    "## define a CNN\n",
    "## loss func\n",
    "## train\n",
    "## test"
   ]
  },
  {
   "cell_type": "code",
   "execution_count": 23,
   "id": "7a30677e",
   "metadata": {
    "tags": []
   },
   "outputs": [],
   "source": [
    "import torch\n",
    "import torch.nn as nn\n",
    "import torchvision                          #torch中用来处理图像的库\n",
    "from torchvision import datasets,transforms\n",
    "import matplotlib.pyplot as plt\n",
    "\n",
    "#设置一些超参\n",
    "num_epochs = 2        #训练的周期\n",
    "batch_size = 4      #批训练的数量\n",
    "learning_rate = 0.001 #学习率（0.1,0.01,0.001）"
   ]
  },
  {
   "cell_type": "code",
   "execution_count": 24,
   "id": "720b9322",
   "metadata": {
    "tags": []
   },
   "outputs": [],
   "source": [
    "import os\n",
    "os.environ['TORCH_HOME']='D:/dataset/'\n",
    "#导入训练数据\n",
    "train_dataset = datasets.MNIST(root='D:/dataset/',                #数据集保存路径\n",
    "                               train=True,                      #是否作为训练集\n",
    "                               transform=transforms.ToTensor(), #数据如何处理, 可以自己自定义\n",
    "                               download=True)                  #路径下没有的话, 可以下载           \n",
    "train_loader = torch.utils.data.DataLoader(dataset=train_dataset, #分批\n",
    "                                           batch_size=batch_size,\n",
    "                                           shuffle=True)          #随机分批\n",
    "#导入测试数据\n",
    "test_dataset = datasets.MNIST(root='D:/dataset/',\n",
    "                              train=False,\n",
    "                              transform=transforms.ToTensor(),\n",
    "                              download=True,)   \n",
    "test_loader = torch.utils.data.DataLoader(dataset=test_dataset,\n",
    "                                          batch_size=batch_size,\n",
    "                                          shuffle=False)\n",
    "\n",
    "classes = ('0','1', '2', '3', '4',\n",
    "           '5', '6', '7', '8', '9')"
   ]
  },
  {
   "cell_type": "code",
   "execution_count": 25,
   "id": "c7a9d31e",
   "metadata": {
    "tags": []
   },
   "outputs": [
    {
     "data": {
      "image/png": "[encoded data removed]",
      "text/plain": [
       "<Figure size 640x480 with 1 Axes>"
      ]
     },
     "metadata": {},
     "output_type": "display_data"
    },
    {
     "name": "stdout",
     "output_type": "stream",
     "text": [
      "5     2     7     3    \n"
     ]
    }
   ],
   "source": [
    "import matplotlib.pyplot as plt\n",
    "import numpy as np\n",
    "\n",
    "# functions to show an image\n",
    "def imshow(img):\n",
    "    img = img / 2 + 0.5     # unnormalize\n",
    "    npimg = img.numpy()\n",
    "    plt.imshow(np.transpose(npimg, (1, 2, 0)))\n",
    "    plt.show()\n",
    "\n",
    "\n",
    "# get some random training images\n",
    "dataiter = iter(train_loader)\n",
    "images, labels = next(dataiter)\n",
    "\n",
    "# show images\n",
    "imshow(torchvision.utils.make_grid(images))\n",
    "# print labels\n",
    "print(' '.join(f'{classes[labels[j]]:5s}' for j in range(batch_size)))"
   ]
  },
  {
   "cell_type": "code",
   "execution_count": 26,
   "id": "964c440a",
   "metadata": {
    "tags": []
   },
   "outputs": [
    {
     "name": "stdout",
     "output_type": "stream",
     "text": [
      "Finished Training\n",
      "Accuracy of the network on the 10000 test images of 30 neurons: 94 %\n",
      "Finished Training\n",
      "Accuracy of the network on the 10000 test images of 60 neurons: 95 %\n",
      "Finished Training\n",
      "Accuracy of the network on the 10000 test images of 90 neurons: 95 %\n",
      "Finished Training\n",
      "Accuracy of the network on the 10000 test images of 120 neurons: 95 %\n",
      "Finished Training\n",
      "Accuracy of the network on the 10000 test images of 150 neurons: 95 %\n",
      "Finished Training\n",
      "Accuracy of the network on the 10000 test images of 180 neurons: 95 %\n",
      "Finished Training\n",
      "Accuracy of the network on the 10000 test images of 210 neurons: 95 %\n",
      "Finished Training\n",
      "Accuracy of the network on the 10000 test images of 240 neurons: 96 %\n",
      "Finished Training\n",
      "Accuracy of the network on the 10000 test images of 270 neurons: 95 %\n",
      "Finished Training\n",
      "Accuracy of the network on the 10000 test images of 300 neurons: 95 %\n"
     ]
    }
   ],
   "source": [
    "##Define a Convolutional Neural Network\n",
    "#MLP1\n",
    "list_accuracy = []\n",
    "neuron = []\n",
    "for a in range(30, 301, 30):\n",
    "    class MLP(nn.Module):                    #继承nn.module\n",
    "\n",
    "        def __init__(self):\n",
    "            super(MLP, self).__init__()      #继承的作用\n",
    "            self.layer1 = nn.Linear(784,a) #hidden layer-300\n",
    "            self.relu = nn.ReLU()\n",
    "            self.layer2 = nn.Linear(a,10)  #ouput layer-10\n",
    "\n",
    "        def forward(self,x):             #网络传播的结构\n",
    "            x = x.reshape(-1, 28*28)\n",
    "            x = self.layer1(x)\n",
    "            x = self.relu(x)\n",
    "            y = self.layer2(x)\n",
    "            return y\n",
    "\n",
    "    mlp = MLP() #类的实例化    \n",
    "    \n",
    "    ##Define a Loss function and optimizer\n",
    "    loss_func = nn.CrossEntropyLoss()\n",
    "    #optimizer = torch.optim.Adam(mlp.parameters(), lr=learning_rate)\n",
    "\n",
    "    # criterion = nn.CrossEntropyLoss()  #交叉熵损失\n",
    "    optimizer = torch.optim.SGD(mlp.parameters(), lr=0.001, momentum=0.9)\n",
    "\n",
    "\n",
    "    ##Train the network\n",
    "    for epoch in range(num_epochs):  # loop over the dataset multiple times\n",
    "        running_loss = 0.0\n",
    "        for i, (images, labels) in enumerate(train_loader): ## get the inputs; data is a list of [inputs, labels]\n",
    "            optimizer.zero_grad()    # zero the parameter gradients 清零梯度\n",
    "            # forward + backward + optimize\n",
    "            outputs = mlp(images)\n",
    "            loss = loss_func(outputs, labels)\n",
    "            loss.backward()                                #反向求梯度\n",
    "            optimizer.step()\n",
    "\n",
    "    #         # print statistics\n",
    "    #         if (i+1) % 100 == 0: # print every 100 mini-batches\n",
    "    #             print('Epoch [{}/{}], Loss: {:.4f}'.format(epoch + 1, num_epochs, loss.item()))\n",
    "\n",
    "\n",
    "#             running_loss += loss.item()\n",
    "#             if i % 2000 == 1999:    \n",
    "#                 print(f'[{epoch + 1}, {i + 1:5d}] loss: {running_loss / 2000:.3f}')\n",
    "#                 running_loss = 0.0\n",
    "\n",
    "    print('Finished Training')\n",
    "\n",
    "\n",
    "    #Test the network on the test data\n",
    "#     #display an image from the test set to look\n",
    "#     dataiter = iter(test_loader)\n",
    "#     images, labels = next(dataiter)\n",
    "\n",
    "#     # print images\n",
    "#     imshow(torchvision.utils.make_grid(images))\n",
    "#     print('GroundTruth: ', ' '.join(f'{classes[labels[j]]:5s}' for j in range(4)))\n",
    "\n",
    "\n",
    "#     #The outputs are energies for the 10 classes. \n",
    "#     #The higher the energy for a class, the more the network thinks that the image is of the particular class. \n",
    "#     #So, let’s get the index of the highest energy:\n",
    "#     #测试模型\n",
    "#     #mlp.eval()      #测试模式，关闭正则化\n",
    "#     correct = 0\n",
    "#     total = 0\n",
    "#     for images, labels in test_loader:\n",
    "#         outputs = mlp(images)\n",
    "#         _, predicted = torch.max(outputs, 1)   #返回值和索引\n",
    "#         total += labels.size(0)\n",
    "#         correct += (predicted == labels).sum().item()\n",
    "\n",
    "#     print('测试准确率: {:.4f}'.format(100.0*correct/total))\n",
    "\n",
    "\n",
    "    #Let us look at how the network performs on the whole dataset.\n",
    "    correct = 0\n",
    "    total = 0\n",
    "    # since we're not training, we don't need to calculate the gradients for our outputs\n",
    "    with torch.no_grad():\n",
    "        for data in test_loader:\n",
    "            images, labels = data\n",
    "            # calculate outputs by running images through the network\n",
    "            outputs = mlp(images)\n",
    "            # the class with the highest energy is what we choose as prediction\n",
    "            _, predicted = torch.max(outputs.data, 1)\n",
    "            total += labels.size(0)\n",
    "            correct += (predicted == labels).sum().item()\n",
    "\n",
    "    print(f'Accuracy of the network on the 10000 test images of {a} neurons: {100 * correct // total} %')\n",
    "    accuracy = 100 * correct // total\n",
    "    list_accuracy.append(accuracy)\n",
    "    neuron.append(a)\n",
    "    \n",
    "\n",
    "\n",
    "    \n",
    "    \n",
    "\n",
    "#     # what are the classes that performed well, and the classes that did not perform well:\n",
    "#     # prepare to count predictions for each class\n",
    "#     correct_pred = {classname: 0 for classname in classes}\n",
    "#     total_pred = {classname: 0 for classname in classes}\n",
    "\n",
    "#     # again no gradients needed\n",
    "#     with torch.no_grad():\n",
    "#         for data in test_loader:\n",
    "#             images, labels = data\n",
    "#             outputs = mlp(images)\n",
    "#             _, predictions = torch.max(outputs, 1)\n",
    "#             # collect the correct predictions for each class\n",
    "#             for label, prediction in zip(labels, predictions):\n",
    "#                 if label == prediction:\n",
    "#                     correct_pred[classes[label]] += 1\n",
    "#                 total_pred[classes[label]] += 1\n",
    "\n",
    "\n",
    "#     # print accuracy for each class\n",
    "#     for classname, correct_count in correct_pred.items():\n",
    "#         accuracy = 100 * float(correct_count) / total_pred[classname]\n",
    "#         print(f'Accuracy for class: {classname:5s} is {accuracy:.1f} %')\n",
    "\n"
   ]
  },
  {
   "cell_type": "code",
   "execution_count": 32,
   "id": "be7d470b-279c-45fd-9532-faeaab1f44a7",
   "metadata": {
    "tags": []
   },
   "outputs": [
    {
     "data": {
      "image/png": "[encoded data removed]",
      "text/plain": [
       "<Figure size 640x480 with 1 Axes>"
      ]
     },
     "metadata": {},
     "output_type": "display_data"
    }
   ],
   "source": [
    "\n",
    "plt.plot(neuron, list_accuracy, marker='o')\n",
    "\n",
    "# 设置图表标题和坐标轴标签\n",
    "plt.title('Accuracy vs Number of Neurons in MLP1')\n",
    "plt.xlabel('Number of Neurons')\n",
    "plt.ylabel('Accuracy (%)')\n",
    "\n",
    "#设定y的范围\n",
    "plt.ylim(80, 100)\n",
    "# 设置 x 轴的刻度，以显示每隔 30 的数值\n",
    "plt.xticks(range(min(neuron), max(neuron) + 1, 30))\n",
    "\n",
    "# 显示图表\n",
    "plt.show()"
   ]
  },
  {
   "cell_type": "code",
   "execution_count": 39,
   "id": "809b464c",
   "metadata": {
    "tags": []
   },
   "outputs": [
    {
     "name": "stdout",
     "output_type": "stream",
     "text": [
      "----------------------  ------------  ------------  ------------  ------------  ------------  ------------  ------------  ------------  \n",
      "                  Name    Self CPU %      Self CPU   CPU total %     CPU total  CPU time avg       CPU Mem  Self CPU Mem    # of Calls  \n",
      "----------------------  ------------  ------------  ------------  ------------  ------------  ------------  ------------  ------------  \n",
      "       model_inference        72.14%     844.000us       100.00%       1.170ms       1.170ms           0 b      -9.53 Kb             1  \n",
      "          aten::linear         1.28%      15.000us        23.93%     280.000us     140.000us       4.84 Kb           0 b             2  \n",
      "           aten::addmm        16.41%     192.000us        18.89%     221.000us     110.500us       4.84 Kb       4.84 Kb             2  \n",
      "               aten::t         2.22%      26.000us         3.76%      44.000us      22.000us           0 b           0 b             2  \n",
      "            aten::relu         1.11%      13.000us         2.14%      25.000us      25.000us       4.69 Kb           0 b             1  \n",
      "         aten::reshape         0.68%       8.000us         1.79%      21.000us      21.000us           0 b           0 b             1  \n",
      "       aten::transpose         1.11%      13.000us         1.54%      18.000us       9.000us           0 b           0 b             2  \n",
      "           aten::copy_         1.54%      18.000us         1.54%      18.000us       9.000us           0 b           0 b             2  \n",
      "            aten::view         1.11%      13.000us         1.11%      13.000us      13.000us           0 b           0 b             1  \n",
      "       aten::clamp_min         1.03%      12.000us         1.03%      12.000us      12.000us       4.69 Kb       4.69 Kb             1  \n",
      "----------------------  ------------  ------------  ------------  ------------  ------------  ------------  ------------  ------------  \n",
      "Self CPU time total: 1.170ms\n",
      "\n"
     ]
    }
   ],
   "source": [
    "#Use PyTorch Profiler to characterize \n",
    "#execution time and memory consumption\n",
    "from torch.profiler import profile, record_function, ProfilerActivity\n",
    "#Using profiler to analyze memory consumption\n",
    "\n",
    "with profile(activities=[ProfilerActivity.CPU],\n",
    "        profile_memory=True, record_shapes=True) as prof:\n",
    "    with record_function(\"model_inference\"):\n",
    "        mlp(images)\n",
    "\n",
    "#print(prof.key_averages().table(sort_by=\"self_cpu_memory_usage\", row_limit=10))\n",
    "print(prof.key_averages().table(sort_by=\"cpu_time_total\", row_limit=10))"
   ]
  },
  {
   "cell_type": "code",
   "execution_count": 9,
   "id": "32a83cff",
   "metadata": {
    "tags": []
   },
   "outputs": [
    {
     "data": {
      "image/png": "[encoded data removed]",
      "text/plain": [
       "<Figure size 640x480 with 1 Axes>"
      ]
     },
     "metadata": {},
     "output_type": "display_data"
    }
   ],
   "source": [
    "\n",
    "import matplotlib.pyplot as plt\n",
    "list_accuracy = [0.1]\n",
    "accuracy = float(42)/50\n",
    "neuron = [30, 60]\n",
    "list_accuracy.append(accuracy)\n",
    "\n",
    "plt.plot(neuron, list_accuracy)\n",
    "plt.bar(neuron, list_accuracy)\n",
    "plt.show()"
   ]
  },
  {
   "cell_type": "code",
   "execution_count": null,
   "id": "31080515",
   "metadata": {},
   "outputs": [],
   "source": []
  }
 ],
 "metadata": {
  "kernelspec": {
   "display_name": "Python 3 (ipykernel)",
   "language": "python",
   "name": "python3"
  },
  "language_info": {
   "codemirror_mode": {
    "name": "ipython",
    "version": 3
   },
   "file_extension": ".py",
   "mimetype": "text/x-python",
   "name": "python",
   "nbconvert_exporter": "python",
   "pygments_lexer": "ipython3",
   "version": "3.11.5"
  }
 },
 "nbformat": 4,
 "nbformat_minor": 5
}
