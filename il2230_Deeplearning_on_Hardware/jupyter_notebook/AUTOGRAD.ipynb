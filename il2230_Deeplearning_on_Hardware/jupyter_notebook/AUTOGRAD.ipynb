{
 "cells": [
  {
   "cell_type": "code",
   "execution_count": 1,
   "id": "ce641da4",
   "metadata": {},
   "outputs": [],
   "source": [
    "import torch\n",
    "#下面两行是修改PyTorch预训练模型的下载路径，#避免默认放在C盘的\"C:\\Users\\1412\\.cache\"里面\n",
    "import os\n",
    "os.environ['TORCH_HOME']='F:\\jupyter_notebook_file\\Dataset'\n",
    "\n",
    "from torchvision.models import resnet18, ResNet18_Weights\n",
    "model = resnet18(weights=ResNet18_Weights.DEFAULT)\n",
    "#create a random data tensor to represent a single image with 3 channels, and height & width of 64\n",
    "data = torch.rand(1, 3, 64, 64)\n",
    "#print(data)\n",
    "labels = torch.rand(1, 1000)"
   ]
  },
  {
   "cell_type": "code",
   "execution_count": 2,
   "id": "82e3aa3e",
   "metadata": {},
   "outputs": [],
   "source": [
    "#run the input data through each of its layers to make a prediction\n",
    "prediction = model(data) # forward pass"
   ]
  },
  {
   "cell_type": "code",
   "execution_count": 3,
   "id": "d9768f71",
   "metadata": {},
   "outputs": [],
   "source": [
    "# use the model’s prediction and the corresponding label to calculate the error (loss)\n",
    "loss = (prediction - labels).sum()\n",
    "#backpropagate this error through the network\n",
    "loss.backward() # backward pass"
   ]
  },
  {
   "cell_type": "code",
   "execution_count": 4,
   "id": "85cfb6e3",
   "metadata": {},
   "outputs": [],
   "source": [
    "#load an optimizer, in this case SGD with a learning rate of 0.01 and momentum of 0.9. \n",
    "#register all parameters in optimizer\n",
    "optim = torch.optim.SGD(model.parameters(), lr=1e-2, momentum=0.9)"
   ]
  },
  {
   "cell_type": "code",
   "execution_count": 5,
   "id": "71d6bb45",
   "metadata": {},
   "outputs": [],
   "source": [
    "optim.step()   #initiate gradient descent\n",
    "#At this point, you have everything you need to train your neural network."
   ]
  },
  {
   "cell_type": "code",
   "execution_count": null,
   "id": "1fe6a62b",
   "metadata": {},
   "outputs": [],
   "source": []
  },
  {
   "cell_type": "code",
   "execution_count": 6,
   "id": "8a0e685b",
   "metadata": {},
   "outputs": [],
   "source": [
    "#Differentiation in Autograd\n",
    "import torch\n",
    "\n",
    "a = torch.tensor([2., 3.], requires_grad=True)\n",
    "#print(a)\n",
    "b = torch.tensor([6., 4.], requires_grad=True)\n",
    "Q = 3*a**3 - b**2"
   ]
  },
  {
   "cell_type": "code",
   "execution_count": 7,
   "id": "9c688e47",
   "metadata": {},
   "outputs": [
    {
     "name": "stdout",
     "output_type": "stream",
     "text": [
      "tensor([True, True])\n",
      "tensor([True, True])\n"
     ]
    }
   ],
   "source": [
    "external_grad = torch.tensor([1., 1.])\n",
    "Q.backward(gradient=external_grad)\n",
    "#autograd calculates these gradients and stores them in the respective tensors’ .grad attribute\n",
    "#Gradients are now deposited in a.grad and b.grad\n",
    "# check if collected gradients are correct\n",
    "print(9*a**2 == a.grad)\n",
    "print(-2*b == b.grad)"
   ]
  },
  {
   "cell_type": "code",
   "execution_count": null,
   "id": "85bbf821",
   "metadata": {},
   "outputs": [],
   "source": []
  },
  {
   "cell_type": "code",
   "execution_count": 8,
   "id": "0aba7429",
   "metadata": {},
   "outputs": [],
   "source": [
    "#Vector Calculus using autograd\n",
    "#数学推导vector-Jacobian product\n",
    "\n",
    "#Computational Graph --DAG-directed acyclic graph"
   ]
  },
  {
   "cell_type": "code",
   "execution_count": 9,
   "id": "ec0ce293",
   "metadata": {},
   "outputs": [
    {
     "name": "stdout",
     "output_type": "stream",
     "text": [
      "Does `a` require gradients? : False\n",
      "Does `b` require gradients?: True\n"
     ]
    }
   ],
   "source": [
    "#The output tensor of an operation will require gradients even if only a single input tensor has requires_grad=True\n",
    "x = torch.rand(5, 5)\n",
    "y = torch.rand(5, 5)\n",
    "z = torch.rand((5, 5), requires_grad=True)\n",
    "\n",
    "a = x + y\n",
    "print(f\"Does `a` require gradients? : {a.requires_grad}\")\n",
    "b = x + z\n",
    "print(f\"Does `b` require gradients?: {b.requires_grad}\")"
   ]
  },
  {
   "cell_type": "code",
   "execution_count": 10,
   "id": "ade0d003",
   "metadata": {},
   "outputs": [],
   "source": [
    "from torch import nn, optim\n",
    "\n",
    "model = resnet18(weights=ResNet18_Weights.DEFAULT)\n",
    "\n",
    "# Freeze all the parameters in the network\n",
    "for param in model.parameters():\n",
    "    param.requires_grad = False\n",
    "    \n",
    "model.fc = nn.Linear(512, 10)\n",
    "\n",
    "# Optimize only the classifier\n",
    "optimizer = optim.SGD(model.parameters(), lr=1e-2, momentum=0.9)\n",
    "\n",
    "#Now all parameters in the model, except the parameters of model.fc, are frozen. \n",
    "#The only parameters that compute gradients are the weights and bias of model.fc"
   ]
  },
  {
   "cell_type": "code",
   "execution_count": null,
   "id": "32de3ab4",
   "metadata": {},
   "outputs": [],
   "source": []
  }
 ],
 "metadata": {
  "kernelspec": {
   "display_name": "py311",
   "language": "python",
   "name": "py311"
  },
  "language_info": {
   "codemirror_mode": {
    "name": "ipython",
    "version": 3
   },
   "file_extension": ".py",
   "mimetype": "text/x-python",
   "name": "python",
   "nbconvert_exporter": "python",
   "pygments_lexer": "ipython3",
   "version": "3.11.5"
  }
 },
 "nbformat": 4,
 "nbformat_minor": 5
}
