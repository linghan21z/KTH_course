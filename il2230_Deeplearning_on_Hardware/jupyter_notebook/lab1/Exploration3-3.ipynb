{
 "cells": [
  {
   "cell_type": "code",
   "execution_count": 1,
   "id": "9f2685b6",
   "metadata": {},
   "outputs": [],
   "source": [
    "## load training and test datasets using torchvision\n",
    "## define a CNN\n",
    "## loss func\n",
    "## train\n",
    "## test"
   ]
  },
  {
   "cell_type": "code",
   "execution_count": 2,
   "id": "7a30677e",
   "metadata": {},
   "outputs": [],
   "source": [
    "import torch\n",
    "import torchvision\n",
    "import torchvision.transforms as transforms"
   ]
  },
  {
   "cell_type": "code",
   "execution_count": 3,
   "id": "f9351d7b",
   "metadata": {},
   "outputs": [
    {
     "name": "stdout",
     "output_type": "stream",
     "text": [
      "Files already downloaded and verified\n",
      "Files already downloaded and verified\n"
     ]
    }
   ],
   "source": [
    "import os\n",
    "os.environ['TORCH_HOME']='F:\\jupyter_notebook_file\\Dataset'\n",
    "\n",
    "transform = transforms.Compose(\n",
    "    [transforms.ToTensor(),\n",
    "     transforms.Normalize((0.5, 0.5, 0.5), (0.5, 0.5, 0.5))])\n",
    "\n",
    "batch_size = 4\n",
    "#train 用于指定数据集下载完成后需要载入哪部分数据\n",
    "#True 说明载入的是数据集的训练集部分；False 测试集部分\n",
    "trainset = torchvision.datasets.CIFAR10(root='./data', train=True,\n",
    "                                        download=True, transform=transform)\n",
    "trainloader = torch.utils.data.DataLoader(trainset, batch_size=batch_size,\n",
    "                                          shuffle=True, num_workers=2)\n",
    "\n",
    "testset = torchvision.datasets.CIFAR10(root='./data', train=False,\n",
    "                                       download=True, transform=transform)\n",
    "testloader = torch.utils.data.DataLoader(testset, batch_size=batch_size,\n",
    "                                         shuffle=False, num_workers=2)\n",
    "\n",
    "classes = ('plane', 'car', 'bird', 'cat',\n",
    "           'deer', 'dog', 'frog', 'horse', 'ship', 'truck')"
   ]
  },
  {
   "cell_type": "code",
   "execution_count": 4,
   "id": "8d76df14",
   "metadata": {
    "scrolled": true
   },
   "outputs": [
    {
     "data": {
      "image/png": "[encoded data removed]",
      "text/plain": [
       "<Figure size 640x480 with 1 Axes>"
      ]
     },
     "metadata": {},
     "output_type": "display_data"
    },
    {
     "name": "stdout",
     "output_type": "stream",
     "text": [
      "plane plane truck frog \n"
     ]
    }
   ],
   "source": [
    "import matplotlib.pyplot as plt\n",
    "import numpy as np\n",
    "\n",
    "# functions to show an image\n",
    "\n",
    "\n",
    "def imshow(img):\n",
    "    img = img / 2 + 0.5     # unnormalize\n",
    "    npimg = img.numpy()\n",
    "    plt.imshow(np.transpose(npimg, (1, 2, 0)))\n",
    "    plt.show()\n",
    "\n",
    "\n",
    "# get some random training images\n",
    "dataiter = iter(trainloader)\n",
    "images, labels = next(dataiter)\n",
    "\n",
    "# show images\n",
    "imshow(torchvision.utils.make_grid(images))\n",
    "# print labels\n",
    "print(' '.join(f'{classes[labels[j]]:5s}' for j in range(batch_size)))"
   ]
  },
  {
   "cell_type": "code",
   "execution_count": 5,
   "id": "eed7080f",
   "metadata": {},
   "outputs": [],
   "source": [
    "##Define a Convolutional Neural Network"
   ]
  },
  {
   "cell_type": "code",
   "execution_count": 6,
   "id": "3dfa7bed",
   "metadata": {},
   "outputs": [],
   "source": [
    "# import torch.nn as nn\n",
    "# import torch.nn.functional as F\n",
    "\n",
    "# #Increase the number of feature maps\n",
    "# class Net(nn.Module):\n",
    "#     def __init__(self):\n",
    "#         super().__init__()\n",
    "#         # 1 input image channel, 6 output channels, 5x5 square convolution\n",
    "#         # kernel\n",
    "#         self.conv1 = nn.Conv2d(3, 6, 5)\n",
    "# #         self.conv1 = nn.Conv2d(3, 8, 5)\n",
    "# #         self.conv1 = nn.Conv2d(3, 10, 5)\n",
    "# #         self.conv1 = nn.Conv2d(3, 12, 5)\n",
    "        \n",
    "#         self.pool = nn.MaxPool2d(2, 2)  #subsampling\n",
    "#         self.conv2 = nn.Conv2d(6, 16, 5)\n",
    "# #         self.conv2 = nn.Conv2d(6, 20, 5)\n",
    "# #         self.conv2 = nn.Conv2d(6, 24, 5)\n",
    "# #         self.conv2 = nn.Conv2d(6, 28, 5)\n",
    "        \n",
    "#         self.fc1 = nn.Linear(16 * 5 * 5, 120)\n",
    "#         self.fc2 = nn.Linear(120, 84)\n",
    "#         self.fc3 = nn.Linear(84, 10)\n",
    "\n",
    "#     def forward(self, x):\n",
    "#         x = self.pool(F.relu(self.conv1(x))) #CONV1 => RELU =>POOL layer\n",
    "#         x = self.pool(F.relu(self.conv2(x)))\n",
    "        \n",
    "#         x = torch.flatten(x, 1) # flatten all dimensions except batch\n",
    "#         x = F.relu(self.fc1(x)) #FC => RELU layers\n",
    "#         x = F.relu(self.fc2(x))\n",
    "#         x = self.fc3(x)\n",
    "#         return x\n",
    "\n",
    "\n",
    "# net = Net()"
   ]
  },
  {
   "cell_type": "code",
   "execution_count": 43,
   "id": "7cbed849",
   "metadata": {},
   "outputs": [],
   "source": [
    "import torch.nn as nn\n",
    "import torch.nn.functional as F\n",
    "\n",
    "#Add more convolutional layers 9,11,13\n",
    "class Net(nn.Module):\n",
    "    def __init__(self):\n",
    "        super().__init__()\n",
    "        # 1 input image channel, 6 output channels, 5x5 square convolution\n",
    "        # kernel\n",
    "        self.conv1 = nn.Conv2d(3, 6, 5)\n",
    "        \n",
    "        self.pool = nn.MaxPool2d(2, 2)  #subsampling\n",
    "        self.conv2 = nn.Conv2d(6, 16, 5)\n",
    "#         self.conv3 = nn.Conv2d(16, 26, 5) #9 layers\n",
    "#         self.conv4 = nn.Conv2d(16, 24, 5) #11 layers\n",
    "#         self.conv5 = nn.Conv2d(24, 28, 5) #13 layers\n",
    "        \n",
    "        self.fc1 = nn.Linear(16 * 5 * 5, 120)\n",
    "        self.fc2 = nn.Linear(120, 84)\n",
    "        self.fc3 = nn.Linear(84, 10)\n",
    "\n",
    "    def forward(self, x):\n",
    "        x = self.pool(F.relu(self.conv1(x))) #CONV1 =>x RELU =>POOL layer\n",
    "        x = self.pool(F.relu(self.conv2(x)))\n",
    "#         x = F.relu(self.conv3(x))\n",
    "#         x = self.pool(F.relu(self.conv4(x)))\n",
    "#         x = self.pool(F.relu(self.conv5(x)))\n",
    "        \n",
    "        x = torch.flatten(x, 1) # flatten all dimensions except batch\n",
    "        x = F.relu(self.fc1(x)) #FC => RELU layers\n",
    "        x = F.relu(self.fc2(x))\n",
    "        x = self.fc3(x)\n",
    "        return x\n",
    "\n",
    "\n",
    "net = Net()"
   ]
  },
  {
   "cell_type": "code",
   "execution_count": 44,
   "id": "f90cdf10",
   "metadata": {},
   "outputs": [],
   "source": [
    "# import torch.nn as nn\n",
    "# import torch.nn.functional as F\n",
    "\n",
    "# #Experiment with different nonlinear activation functions\n",
    "# class Net(nn.Module):\n",
    "#     def __init__(self):\n",
    "#         super().__init__()\n",
    "#         # 1 input image channel, 6 output channels, 5x5 square convolution\n",
    "#         # kernel\n",
    "#         self.conv1 = nn.Conv2d(3, 6, 5)        \n",
    "#         self.pool = nn.MaxPool2d(2, 2)  #subsampling\n",
    "#         self.conv2 = nn.Conv2d(6, 16, 5)        \n",
    "#         self.fc1 = nn.Linear(16 * 5 * 5, 120)\n",
    "#         self.fc2 = nn.Linear(120, 84)\n",
    "#         self.fc3 = nn.Linear(84, 10)\n",
    "\n",
    "#     def forward(self, x):\n",
    "#         x = self.pool(F.relu(self.conv1(x))) #CONV1 => RELU =>POOL layer\n",
    "#         x = self.pool(F.relu(self.conv2(x)))\n",
    "        \n",
    "# #         x = self.pool(F.Sigmoid(self.conv1(x))) #CONV1 => RELU =>POOL layer\n",
    "# #         x = self.pool(F.Sigmoid(self.conv2(x)))\n",
    "        \n",
    "# #         x = self.pool(F.Tanh(self.conv1(x))) #CONV1 => RELU =>POOL layer\n",
    "# #         x = self.pool(F.Tanh(self.conv2(x)))\n",
    "        \n",
    "#         x = torch.flatten(x, 1) # flatten all dimensions except batch\n",
    "#         x = F.relu(self.fc1(x)) #FC => RELU layers\n",
    "#         x = F.relu(self.fc2(x))\n",
    "        \n",
    "# #         x = F.Sigmoid(self.fc1(x)) #FC => RELU layers\n",
    "# #         x = F.Sigmoid(self.fc2(x))\n",
    "\n",
    "# #         x = F.Tanh(self.fc1(x)) #FC => RELU layers\n",
    "# #         x = F.Tanh(self.fc2(x))\n",
    "        \n",
    "#         x = self.fc3(x)\n",
    "#         return x\n",
    "\n",
    "\n",
    "# net = Net()"
   ]
  },
  {
   "cell_type": "code",
   "execution_count": 45,
   "id": "ec0c09ea",
   "metadata": {},
   "outputs": [],
   "source": [
    "##Define a Loss function and optimizer"
   ]
  },
  {
   "cell_type": "code",
   "execution_count": 46,
   "id": "87bdadc5",
   "metadata": {},
   "outputs": [],
   "source": [
    "import torch.optim as optim\n",
    "\n",
    "criterion = nn.CrossEntropyLoss()  #交叉熵损失\n",
    "optimizer = optim.SGD(net.parameters(), lr=0.001, momentum=0.9)"
   ]
  },
  {
   "cell_type": "code",
   "execution_count": 47,
   "id": "51430f91",
   "metadata": {},
   "outputs": [],
   "source": [
    "##Train the network"
   ]
  },
  {
   "cell_type": "code",
   "execution_count": null,
   "id": "f7208aad",
   "metadata": {},
   "outputs": [],
   "source": [
    "for epoch in range(5):  # loop over the dataset multiple times\n",
    "\n",
    "    running_loss = 0.0\n",
    "    for i, data in enumerate(trainloader, 0):\n",
    "        # get the inputs; data is a list of [inputs, labels]\n",
    "        inputs, labels = data\n",
    "\n",
    "        # zero the parameter gradients\n",
    "        optimizer.zero_grad()\n",
    "\n",
    "        # forward + backward + optimize\n",
    "        outputs = net(inputs)\n",
    "        loss = criterion(outputs, labels)\n",
    "        loss.backward()\n",
    "        optimizer.step()\n",
    "\n",
    "        # print statistics\n",
    "        running_loss += loss.item()\n",
    "        if i % 2000 == 1999:    # print every 2000 mini-batches\n",
    "            print(f'[{epoch + 1}, {i + 1:5d}] loss: {running_loss / 2000:.3f}')\n",
    "            running_loss = 0.0\n",
    "\n",
    "print('Finished Training')"
   ]
  },
  {
   "cell_type": "code",
   "execution_count": null,
   "id": "212c2a9e",
   "metadata": {},
   "outputs": [],
   "source": [
    "#quickly save our trained model\n",
    "PATH = './cifar_net.pth'\n",
    "torch.save(net.state_dict(), PATH)"
   ]
  },
  {
   "cell_type": "code",
   "execution_count": null,
   "id": "7f9b8385",
   "metadata": {},
   "outputs": [],
   "source": [
    "#Test the network on the test data"
   ]
  },
  {
   "cell_type": "code",
   "execution_count": null,
   "id": "783437d0",
   "metadata": {},
   "outputs": [],
   "source": [
    "#display an image from the test set to look\n",
    "dataiter = iter(testloader)\n",
    "images, labels = next(dataiter)\n",
    "\n",
    "# print images\n",
    "imshow(torchvision.utils.make_grid(images))\n",
    "print('GroundTruth: ', ' '.join(f'{classes[labels[j]]:5s}' for j in range(4)))"
   ]
  },
  {
   "cell_type": "code",
   "execution_count": null,
   "id": "627df288",
   "metadata": {},
   "outputs": [],
   "source": [
    "#load back in our saved model, wasn’t necessary here\n",
    "net = Net()\n",
    "net.load_state_dict(torch.load(PATH))"
   ]
  },
  {
   "cell_type": "code",
   "execution_count": null,
   "id": "93dd4a42",
   "metadata": {},
   "outputs": [],
   "source": [
    "outputs = net(images)"
   ]
  },
  {
   "cell_type": "code",
   "execution_count": null,
   "id": "9ed7a502",
   "metadata": {},
   "outputs": [],
   "source": [
    "#The outputs are energies for the 10 classes. \n",
    "#The higher the energy for a class, the more the network thinks that the image is of the particular class. \n",
    "#So, let’s get the index of the highest energy:\n",
    "_, predicted = torch.max(outputs, 1)\n",
    "\n",
    "print('Predicted: ', ' '.join(f'{classes[predicted[j]]:5s}'\n",
    "                              for j in range(4)))"
   ]
  },
  {
   "cell_type": "code",
   "execution_count": null,
   "id": "1dd33730",
   "metadata": {},
   "outputs": [],
   "source": [
    "#Let us look at how the network performs on the whole dataset.\n",
    "correct = 0\n",
    "total = 0\n",
    "# since we're not training, we don't need to calculate the gradients for our outputs\n",
    "with torch.no_grad():\n",
    "    for data in testloader:\n",
    "        images, labels = data\n",
    "        # calculate outputs by running images through the network\n",
    "        outputs = net(images)\n",
    "        # the class with the highest energy is what we choose as prediction\n",
    "        _, predicted = torch.max(outputs.data, 1)\n",
    "        total += labels.size(0)\n",
    "        correct += (predicted == labels).sum().item()\n",
    "\n",
    "print(f'Accuracy of the network on the 10000 test images: {100 * correct // total} %')\n",
    "\n",
    "#That looks way better than chance, which is 10% accuracy (randomly picking a class out of 10 classes). Seems like the network learnt something."
   ]
  },
  {
   "cell_type": "code",
   "execution_count": null,
   "id": "a196db5e",
   "metadata": {},
   "outputs": [],
   "source": [
    "# what are the classes that performed well, and the classes that did not perform well:\n",
    "# prepare to count predictions for each class\n",
    "correct_pred = {classname: 0 for classname in classes}\n",
    "total_pred = {classname: 0 for classname in classes}\n",
    "\n",
    "# again no gradients needed\n",
    "with torch.no_grad():\n",
    "    for data in testloader:\n",
    "        images, labels = data\n",
    "        outputs = net(images)\n",
    "        _, predictions = torch.max(outputs, 1)\n",
    "        # collect the correct predictions for each class\n",
    "        for label, prediction in zip(labels, predictions):\n",
    "            if label == prediction:\n",
    "                correct_pred[classes[label]] += 1\n",
    "            total_pred[classes[label]] += 1\n",
    "\n",
    "\n",
    "# print accuracy for each class\n",
    "for classname, correct_count in correct_pred.items():\n",
    "    accuracy = 100 * float(correct_count) / total_pred[classname]\n",
    "    print(f'Accuracy for class: {classname:5s} is {accuracy:.1f} %')"
   ]
  },
  {
   "cell_type": "markdown",
   "id": "aed9e200",
   "metadata": {},
   "source": [
    " "
   ]
  }
 ],
 "metadata": {
  "kernelspec": {
   "display_name": "py311",
   "language": "python",
   "name": "py311"
  },
  "language_info": {
   "codemirror_mode": {
    "name": "ipython",
    "version": 3
   },
   "file_extension": ".py",
   "mimetype": "text/x-python",
   "name": "python",
   "nbconvert_exporter": "python",
   "pygments_lexer": "ipython3",
   "version": "3.11.5"
  }
 },
 "nbformat": 4,
 "nbformat_minor": 5
}
