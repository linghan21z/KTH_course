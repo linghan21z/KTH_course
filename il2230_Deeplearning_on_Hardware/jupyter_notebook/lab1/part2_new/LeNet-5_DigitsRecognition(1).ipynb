{
 "cells": [
  {
   "cell_type": "code",
   "execution_count": 1,
   "id": "9f2685b6",
   "metadata": {},
   "outputs": [],
   "source": [
    "## load training and test datasets using torchvision\n",
    "## define a CNN\n",
    "## loss func\n",
    "## train\n",
    "## test"
   ]
  },
  {
   "cell_type": "code",
   "execution_count": 2,
   "id": "7a30677e",
   "metadata": {},
   "outputs": [],
   "source": [
    "import torch\n",
    "import torchvision\n",
    "import torchvision.transforms as transforms\n",
    "import torchvision.datasets as datasets\n",
    "\n",
    "#设置一些超参\n",
    "num_epochs = 2        #训练的周期\n",
    "batch_size = 4      #批训练的数量\n",
    "learning_rate = 0.001 #学习率（0.1,0.01,0.001）"
   ]
  },
  {
   "cell_type": "code",
   "execution_count": 3,
   "id": "f9351d7b",
   "metadata": {},
   "outputs": [],
   "source": [
    "import os\n",
    "os.environ['TORCH_HOME']='D:/dataset/'\n",
    "#导入训练数据\n",
    "train_dataset = datasets.MNIST(root='D:/dataset/',                #数据集保存路径\n",
    "                               train=True,                      #是否作为训练集\n",
    "                               transform=transforms.ToTensor(), #数据如何处理, 可以自己自定义\n",
    "                               download=True)                  #路径下没有的话, 可以下载           \n",
    "train_loader = torch.utils.data.DataLoader(dataset=train_dataset, #分批\n",
    "                                           batch_size=batch_size,\n",
    "                                           shuffle=True)          #随机分批\n",
    "#导入测试数据\n",
    "test_dataset = datasets.MNIST(root='D:/dataset/',\n",
    "                              train=False,\n",
    "                              transform=transforms.ToTensor(),\n",
    "                              download=True,)   \n",
    "test_loader = torch.utils.data.DataLoader(dataset=test_dataset,\n",
    "                                          batch_size=batch_size,\n",
    "                                          shuffle=False)\n",
    "\n",
    "classes = ('0','1', '2', '3', '4',\n",
    "           '5', '6', '7', '8', '9')"
   ]
  },
  {
   "cell_type": "code",
   "execution_count": 4,
   "id": "8d76df14",
   "metadata": {
    "scrolled": true
   },
   "outputs": [
    {
     "data": {
      "image/png": "[encoded data removed]",
      "text/plain": [
       "<Figure size 640x480 with 1 Axes>"
      ]
     },
     "metadata": {},
     "output_type": "display_data"
    },
    {
     "name": "stdout",
     "output_type": "stream",
     "text": [
      "7     4     9     2    \n"
     ]
    }
   ],
   "source": [
    "import matplotlib.pyplot as plt\n",
    "import numpy as np\n",
    "\n",
    "# functions to show an image\n",
    "def imshow(img):\n",
    "    img = img / 2 + 0.5     # unnormalize\n",
    "    npimg = img.numpy()\n",
    "    plt.imshow(np.transpose(npimg, (1, 2, 0)))\n",
    "    plt.show()\n",
    "\n",
    "\n",
    "# get some random training images\n",
    "dataiter = iter(train_loader)\n",
    "images, labels = next(dataiter)\n",
    "\n",
    "# show images\n",
    "imshow(torchvision.utils.make_grid(images))\n",
    "# print labels\n",
    "print(' '.join(f'{classes[labels[j]]:5s}' for j in range(batch_size)))"
   ]
  },
  {
   "cell_type": "code",
   "execution_count": 5,
   "id": "eed7080f",
   "metadata": {},
   "outputs": [],
   "source": [
    "##Define LeNet-5 Neural Network"
   ]
  },
  {
   "cell_type": "code",
   "execution_count": 6,
   "id": "3dfa7bed",
   "metadata": {},
   "outputs": [],
   "source": [
    "import torch.nn as nn\n",
    "import torch.nn.functional as F\n",
    "\n",
    "\n",
    "class Net(nn.Module):\n",
    "    def __init__(self):\n",
    "        super().__init__()\n",
    "        self.conv1 = nn.Conv2d(in_channels=1, out_channels=6, kernel_size=5, stride=1)\n",
    "        self.pool = nn.MaxPool2d(kernel_size=2, stride=2)  #subsampling\n",
    "        self.conv2 = nn.Conv2d(6, 16, 5)\n",
    "        #self.fc1 = nn.Linear(16 * 5 * 5, 120)\n",
    "        # Note that the images were centered in a 28x28 image. \n",
    "        # The standard LeNet-5 assumes the image size 32x32\n",
    "        self.fc1 = nn.Linear(16 * 4 * 4, 120)\n",
    "        self.fc2 = nn.Linear(120, 84)\n",
    "        self.fc3 = nn.Linear(84, 10)\n",
    "\n",
    "    def forward(self, x):\n",
    "        x = self.pool(F.relu(self.conv1(x)))\n",
    "        x = self.pool(F.relu(self.conv2(x)))\n",
    "        x = torch.flatten(x, 1) # flatten all dimensions except batch\n",
    "        x = F.relu(self.fc1(x))\n",
    "        x = F.relu(self.fc2(x))\n",
    "        x = self.fc3(x)\n",
    "        return x\n",
    "\n",
    "\n",
    "LeNet5 = Net()"
   ]
  },
  {
   "cell_type": "code",
   "execution_count": 7,
   "id": "ec0c09ea",
   "metadata": {},
   "outputs": [],
   "source": [
    "##Define a Loss function and optimizer"
   ]
  },
  {
   "cell_type": "code",
   "execution_count": 8,
   "id": "87bdadc5",
   "metadata": {},
   "outputs": [],
   "source": [
    "import torch.optim as optim\n",
    "\n",
    "criterion = nn.CrossEntropyLoss()  #交叉熵损失\n",
    "optimizer = optim.SGD(LeNet5.parameters(), lr=0.001, momentum=0.9)"
   ]
  },
  {
   "cell_type": "code",
   "execution_count": 9,
   "id": "51430f91",
   "metadata": {},
   "outputs": [],
   "source": [
    "##Train the network"
   ]
  },
  {
   "cell_type": "code",
   "execution_count": 10,
   "id": "f7208aad",
   "metadata": {},
   "outputs": [
    {
     "name": "stdout",
     "output_type": "stream",
     "text": [
      "Epoch [1/2], Loss: 2.0587\n",
      "Epoch [1/2], Loss: 0.0647\n",
      "Epoch [1/2], Loss: 0.3830\n",
      "Epoch [1/2], Loss: 0.0373\n",
      "Epoch [1/2], Loss: 0.0016\n",
      "Epoch [1/2], Loss: 0.1181\n",
      "Epoch [1/2], Loss: 0.0008\n",
      "Epoch [1/2], Loss: 0.2700\n",
      "Epoch [1/2], Loss: 1.2112\n",
      "Epoch [1/2], Loss: 0.8314\n",
      "Epoch [1/2], Loss: 0.0032\n",
      "Epoch [1/2], Loss: 0.0018\n",
      "Epoch [1/2], Loss: 0.0140\n",
      "Epoch [1/2], Loss: 0.0025\n",
      "Epoch [1/2], Loss: 0.0169\n",
      "Epoch [2/2], Loss: 0.0019\n",
      "Epoch [2/2], Loss: 0.0081\n",
      "Epoch [2/2], Loss: 0.0296\n",
      "Epoch [2/2], Loss: 0.0013\n",
      "Epoch [2/2], Loss: 0.0027\n",
      "Epoch [2/2], Loss: 0.0072\n",
      "Epoch [2/2], Loss: 0.0466\n",
      "Epoch [2/2], Loss: 0.2040\n",
      "Epoch [2/2], Loss: 0.0057\n",
      "Epoch [2/2], Loss: 0.0004\n",
      "Epoch [2/2], Loss: 0.1028\n",
      "Epoch [2/2], Loss: 0.0043\n",
      "Epoch [2/2], Loss: 0.0028\n",
      "Epoch [2/2], Loss: 0.0003\n",
      "Epoch [2/2], Loss: 0.0010\n",
      "Finished Training\n"
     ]
    }
   ],
   "source": [
    "for epoch in range(num_epochs):  # loop over the dataset multiple times\n",
    "\n",
    "    # running_loss = 0.0\n",
    "    for i, data in enumerate(train_loader, 0):\n",
    "        # get the images; data is a list of [images, labels]\n",
    "        images, labels = data\n",
    "        # zero the parameter gradients\n",
    "        optimizer.zero_grad()\n",
    "        # forward + backward + optimize\n",
    "        outputs = LeNet5(images)\n",
    "        loss = criterion(outputs, labels)\n",
    "        loss.backward()\n",
    "        optimizer.step()\n",
    "\n",
    "        # print statistics\n",
    "        if (i+1) % 1000 == 0: # print every 100 mini-batches\n",
    "            print('Epoch [{}/{}], Loss: {:.4f}'.format(epoch + 1, num_epochs, loss.item()))\n",
    "        \n",
    "\n",
    "#         running_loss += loss.item()\n",
    "#         if i % 2000 == 1999:    \n",
    "#             print(f'[{epoch + 1}, {i + 1:5d}] loss: {running_loss / 2000:.3f}')\n",
    "#             running_loss = 0.0\n",
    "\n",
    "print('Finished Training')"
   ]
  },
  {
   "cell_type": "code",
   "execution_count": 11,
   "id": "212c2a9e",
   "metadata": {},
   "outputs": [],
   "source": [
    "#quickly save our trained model\n",
    "PATH = './LeNet5_net.pth'\n",
    "torch.save(LeNet5.state_dict(), PATH)"
   ]
  },
  {
   "cell_type": "code",
   "execution_count": 12,
   "id": "7f9b8385",
   "metadata": {},
   "outputs": [],
   "source": [
    "#Test the network on the test data"
   ]
  },
  {
   "cell_type": "code",
   "execution_count": 13,
   "id": "783437d0",
   "metadata": {},
   "outputs": [
    {
     "data": {
      "image/png": "[encoded data removed]",
      "text/plain": [
       "<Figure size 640x480 with 1 Axes>"
      ]
     },
     "metadata": {},
     "output_type": "display_data"
    },
    {
     "name": "stdout",
     "output_type": "stream",
     "text": [
      "GroundTruth:  7     2     1     0    \n"
     ]
    }
   ],
   "source": [
    "#display an image from the test set to look\n",
    "dataiter = iter(test_loader)\n",
    "images, labels = next(dataiter)\n",
    "\n",
    "# print images\n",
    "imshow(torchvision.utils.make_grid(images))\n",
    "print('GroundTruth: ', ' '.join(f'{classes[labels[j]]:5s}' for j in range(4)))"
   ]
  },
  {
   "cell_type": "code",
   "execution_count": 14,
   "id": "627df288",
   "metadata": {},
   "outputs": [
    {
     "data": {
      "text/plain": [
       "<All keys matched successfully>"
      ]
     },
     "execution_count": 14,
     "metadata": {},
     "output_type": "execute_result"
    }
   ],
   "source": [
    "#load back in our saved model, wasn’t necessary here\n",
    "LeNet5 = Net()\n",
    "LeNet5.load_state_dict(torch.load(PATH))"
   ]
  },
  {
   "cell_type": "code",
   "execution_count": 15,
   "id": "93dd4a42",
   "metadata": {},
   "outputs": [],
   "source": [
    "outputs = LeNet5(images)"
   ]
  },
  {
   "cell_type": "code",
   "execution_count": 16,
   "id": "9ed7a502",
   "metadata": {},
   "outputs": [
    {
     "name": "stdout",
     "output_type": "stream",
     "text": [
      "Predicted:  7     2     1     0    \n"
     ]
    }
   ],
   "source": [
    "#The outputs are energies for the 10 classes. \n",
    "#The higher the energy for a class, the more the network thinks that the image is of the particular class. \n",
    "#So, let’s get the index of the highest energy:\n",
    "_, predicted = torch.max(outputs, 1)\n",
    "\n",
    "print('Predicted: ', ' '.join(f'{classes[predicted[j]]:5s}'\n",
    "                              for j in range(4)))"
   ]
  },
  {
   "cell_type": "code",
   "execution_count": 17,
   "id": "1dd33730",
   "metadata": {},
   "outputs": [
    {
     "name": "stdout",
     "output_type": "stream",
     "text": [
      "Accuracy of the network on the 10000 test images: 98 %\n"
     ]
    }
   ],
   "source": [
    "#Let us look at how the network performs on the whole dataset.\n",
    "#model.eval()  #测试模式，关闭正则化\n",
    "correct = 0\n",
    "total = 0\n",
    "# since we're not training, we don't need to calculate the gradients for our outputs\n",
    "with torch.no_grad():\n",
    "    for data in test_loader:\n",
    "        images, labels = data\n",
    "        # calculate outputs by running images through the network\n",
    "        outputs = LeNet5(images)\n",
    "        # the class with the highest energy is what we choose as prediction\n",
    "        _, predicted = torch.max(outputs.data, 1)\n",
    "        total += labels.size(0)\n",
    "        correct += (predicted == labels).sum().item()\n",
    "\n",
    "print(f'Accuracy of the network on the 10000 test images: {100 * correct // total} %')"
   ]
  },
  {
   "cell_type": "code",
   "execution_count": 18,
   "id": "a196db5e",
   "metadata": {},
   "outputs": [
    {
     "name": "stdout",
     "output_type": "stream",
     "text": [
      "Accuracy for class: 0     is 99.6 %\n",
      "Accuracy for class: 1     is 99.3 %\n",
      "Accuracy for class: 2     is 99.0 %\n",
      "Accuracy for class: 3     is 97.9 %\n",
      "Accuracy for class: 4     is 98.3 %\n",
      "Accuracy for class: 5     is 99.1 %\n",
      "Accuracy for class: 6     is 96.1 %\n",
      "Accuracy for class: 7     is 97.5 %\n",
      "Accuracy for class: 8     is 98.0 %\n",
      "Accuracy for class: 9     is 98.0 %\n"
     ]
    }
   ],
   "source": [
    "# what are the classes that performed well, and the classes that did not perform well:\n",
    "# prepare to count predictions for each class\n",
    "correct_pred = {classname: 0 for classname in classes}\n",
    "total_pred = {classname: 0 for classname in classes}\n",
    "\n",
    "# again no gradients needed\n",
    "with torch.no_grad():\n",
    "    for data in test_loader:\n",
    "        images, labels = data\n",
    "        outputs = LeNet5(images)\n",
    "        _, predictions = torch.max(outputs, 1)\n",
    "        # collect the correct predictions for each class\n",
    "        for label, prediction in zip(labels, predictions):\n",
    "            if label == prediction:\n",
    "                correct_pred[classes[label]] += 1\n",
    "            total_pred[classes[label]] += 1\n",
    "\n",
    "\n",
    "# print accuracy for each class\n",
    "for classname, correct_count in correct_pred.items():\n",
    "    accuracy = 100 * float(correct_count) / total_pred[classname]\n",
    "    print(f'Accuracy for class: {classname:5s} is {accuracy:.1f} %')"
   ]
  },
  {
   "cell_type": "code",
   "execution_count": 19,
   "id": "bc1853b6",
   "metadata": {},
   "outputs": [
    {
     "name": "stdout",
     "output_type": "stream",
     "text": [
      "---------------------------------  ------------  ------------  ------------  ------------  ------------  ------------  \n",
      "                             Name    Self CPU %      Self CPU   CPU total %     CPU total  CPU time avg    # of Calls  \n",
      "---------------------------------  ------------  ------------  ------------  ------------  ------------  ------------  \n",
      "                     aten::conv2d         2.25%      20.000us        61.26%     544.000us     272.000us             2  \n",
      "                aten::convolution         6.76%      60.000us        59.01%     524.000us     262.000us             2  \n",
      "               aten::_convolution         3.04%      27.000us        52.25%     464.000us     232.000us             2  \n",
      "         aten::mkldnn_convolution        46.96%     417.000us        49.21%     437.000us     218.500us             2  \n",
      "                     aten::linear         1.24%      11.000us        15.43%     137.000us      45.667us             3  \n",
      "                 aten::max_pool2d         1.46%      13.000us        13.40%     119.000us      59.500us             2  \n",
      "    aten::max_pool2d_with_indices        11.94%     106.000us        11.94%     106.000us      53.000us             2  \n",
      "                      aten::addmm         8.67%      77.000us        11.04%      98.000us      32.667us             3  \n",
      "                       aten::relu         3.38%      30.000us         8.33%      74.000us      18.500us             4  \n",
      "                  aten::clamp_min         4.95%      44.000us         4.95%      44.000us      11.000us             4  \n",
      "---------------------------------  ------------  ------------  ------------  ------------  ------------  ------------  \n",
      "Self CPU time total: 888.000us\n",
      "\n"
     ]
    }
   ],
   "source": [
    "#Use PyTorch Profiler to characterize \n",
    "#execution time and memory consumption\n",
    "from torch.profiler import profile, record_function, ProfilerActivity\n",
    "\n",
    "#Using profiler to analyze execution time\n",
    "with profile(activities=[ProfilerActivity.CPU], record_shapes=True) as prof:\n",
    "    #with record_function(\"model_inference\"):\n",
    "        LeNet5(images)\n",
    "        \n",
    "print(prof.key_averages().table(sort_by=\"cpu_time_total\", row_limit=10))"
   ]
  },
  {
   "cell_type": "code",
   "execution_count": 20,
   "id": "48890815",
   "metadata": {},
   "outputs": [
    {
     "name": "stdout",
     "output_type": "stream",
     "text": [
      "---------------------------------  ------------  ------------  ------------  ------------  ------------  ------------  --------------------------------------------------------------------------------  \n",
      "                             Name    Self CPU %      Self CPU   CPU total %     CPU total  CPU time avg    # of Calls                                                                      Input Shapes  \n",
      "---------------------------------  ------------  ------------  ------------  ------------  ------------  ------------  --------------------------------------------------------------------------------  \n",
      "                     aten::conv2d         1.58%      14.000us        32.88%     292.000us     292.000us             1                               [[4, 1, 28, 28], [6, 1, 5, 5], [6], [], [], [], []]  \n",
      "                aten::convolution         4.28%      38.000us        31.31%     278.000us     278.000us             1                       [[4, 1, 28, 28], [6, 1, 5, 5], [6], [], [], [], [], [], []]  \n",
      "                     aten::conv2d         0.68%       6.000us        28.38%     252.000us     252.000us             1                             [[4, 6, 12, 12], [16, 6, 5, 5], [16], [], [], [], []]  \n",
      "                aten::convolution         2.48%      22.000us        27.70%     246.000us     246.000us             1                     [[4, 6, 12, 12], [16, 6, 5, 5], [16], [], [], [], [], [], []]  \n",
      "               aten::_convolution         2.03%      18.000us        27.03%     240.000us     240.000us             1       [[4, 1, 28, 28], [6, 1, 5, 5], [6], [], [], [], [], [], [], [], [], [], []]  \n",
      "               aten::_convolution         1.01%       9.000us        25.23%     224.000us     224.000us             1     [[4, 6, 12, 12], [16, 6, 5, 5], [16], [], [], [], [], [], [], [], [], [], []]  \n",
      "         aten::mkldnn_convolution        23.65%     210.000us        25.00%     222.000us     222.000us             1                               [[4, 1, 28, 28], [6, 1, 5, 5], [6], [], [], [], []]  \n",
      "         aten::mkldnn_convolution        23.31%     207.000us        24.21%     215.000us     215.000us             1                             [[4, 6, 12, 12], [16, 6, 5, 5], [16], [], [], [], []]  \n",
      "                 aten::max_pool2d         1.01%       9.000us         9.23%      82.000us      82.000us             1                                              [[4, 6, 24, 24], [], [], [], [], []]  \n",
      "    aten::max_pool2d_with_indices         8.22%      73.000us         8.22%      73.000us      73.000us             1                                              [[4, 6, 24, 24], [], [], [], [], []]  \n",
      "---------------------------------  ------------  ------------  ------------  ------------  ------------  ------------  --------------------------------------------------------------------------------  \n",
      "Self CPU time total: 888.000us\n",
      "\n"
     ]
    }
   ],
   "source": [
    "print(prof.key_averages(group_by_input_shape=True).table(sort_by=\"cpu_time_total\", row_limit=10))"
   ]
  },
  {
   "cell_type": "code",
   "execution_count": 23,
   "id": "e32325bd",
   "metadata": {
    "tags": []
   },
   "outputs": [
    {
     "name": "stdout",
     "output_type": "stream",
     "text": [
      "---------------------------------  ------------  ------------  ------------  ------------  ------------  ------------  ------------  ------------  \n",
      "                             Name    Self CPU %      Self CPU   CPU total %     CPU total  CPU time avg       CPU Mem  Self CPU Mem    # of Calls  \n",
      "---------------------------------  ------------  ------------  ------------  ------------  ------------  ------------  ------------  ------------  \n",
      "                  model_inference        29.95%     451.000us       100.00%       1.506ms       1.506ms           0 b    -239.53 Kb             1  \n",
      "                     aten::conv2d         0.80%      12.000us        40.90%     616.000us     308.000us      70.00 Kb           0 b             2  \n",
      "                aten::convolution         3.05%      46.000us        40.11%     604.000us     302.000us      70.00 Kb           0 b             2  \n",
      "               aten::_convolution         1.53%      23.000us        37.05%     558.000us     279.000us      70.00 Kb           0 b             2  \n",
      "         aten::mkldnn_convolution        33.27%     501.000us        35.52%     535.000us     267.500us      70.00 Kb           0 b             2  \n",
      "                     aten::linear         0.73%      11.000us        11.69%     176.000us      58.667us       3.34 Kb           0 b             3  \n",
      "                      aten::addmm         6.37%      96.000us         8.23%     124.000us      41.333us       3.34 Kb       3.34 Kb             3  \n",
      "                 aten::max_pool2d         4.71%      71.000us         6.71%     101.000us      50.500us      52.50 Kb      40.50 Kb             2  \n",
      "    aten::max_pool2d_with_indices         6.18%      93.000us         6.18%      93.000us      46.500us      52.50 Kb      52.50 Kb             2  \n",
      "                       aten::relu         2.26%      34.000us         5.44%      82.000us      20.500us      73.19 Kb           0 b             4  \n",
      "---------------------------------  ------------  ------------  ------------  ------------  ------------  ------------  ------------  ------------  \n",
      "Self CPU time total: 1.506ms\n",
      "\n"
     ]
    }
   ],
   "source": [
    "#Using profiler to analyze memory consumption\n",
    "\n",
    "with profile(activities=[ProfilerActivity.CPU],\n",
    "        profile_memory=True, record_shapes=True) as prof:\n",
    "    with record_function(\"model_inference\"):\n",
    "        LeNet5(images)\n",
    "\n",
    "# print(prof.key_averages().table(sort_by=\"self_cpu_memory_usage\", row_limit=10))\n",
    "print(prof.key_averages().table(sort_by=\"cpu_time_total\", row_limit=10))\n"
   ]
  },
  {
   "cell_type": "code",
   "execution_count": null,
   "id": "74c09d2d",
   "metadata": {},
   "outputs": [],
   "source": []
  }
 ],
 "metadata": {
  "kernelspec": {
   "display_name": "Python 3 (ipykernel)",
   "language": "python",
   "name": "python3"
  },
  "language_info": {
   "codemirror_mode": {
    "name": "ipython",
    "version": 3
   },
   "file_extension": ".py",
   "mimetype": "text/x-python",
   "name": "python",
   "nbconvert_exporter": "python",
   "pygments_lexer": "ipython3",
   "version": "3.11.5"
  }
 },
 "nbformat": 4,
 "nbformat_minor": 5
}
