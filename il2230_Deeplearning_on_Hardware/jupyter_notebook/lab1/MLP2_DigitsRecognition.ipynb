{
 "cells": [
  {
   "cell_type": "code",
   "execution_count": 1,
   "id": "9f2685b6",
   "metadata": {},
   "outputs": [],
   "source": [
    "## load training and test datasets using torchvision\n",
    "## define a CNN\n",
    "## loss func\n",
    "## train\n",
    "## test"
   ]
  },
  {
   "cell_type": "code",
   "execution_count": 2,
   "id": "7a30677e",
   "metadata": {},
   "outputs": [],
   "source": [
    "import torch\n",
    "import torch.nn as nn\n",
    "import torchvision                          #torch中用来处理图像的库\n",
    "from torchvision import datasets,transforms\n",
    "import matplotlib.pyplot as plt\n",
    "\n",
    "#设置一些超参\n",
    "num_epochs = 4        #训练的周期\n",
    "batch_size = 4      #批训练的数量\n",
    "learning_rate = 0.001 #学习率（0.1,0.01,0.001）"
   ]
  },
  {
   "cell_type": "code",
   "execution_count": 3,
   "id": "720b9322",
   "metadata": {},
   "outputs": [],
   "source": [
    "import os\n",
    "os.environ['TORCH_HOME']='F:\\jupyter_notebook_file\\Mnist'\n",
    "#导入训练数据\n",
    "train_dataset = datasets.MNIST(root='F:/jupyter_notebook_file/Mnist/',                #数据集保存路径\n",
    "                               train=True,                      #是否作为训练集\n",
    "                               transform=transforms.ToTensor(), #数据如何处理, 可以自己自定义\n",
    "                               download=True)                  #路径下没有的话, 可以下载           \n",
    "train_loader = torch.utils.data.DataLoader(dataset=train_dataset, #分批\n",
    "                                           batch_size=batch_size,\n",
    "                                           shuffle=True)          #随机分批\n",
    "#导入测试数据\n",
    "test_dataset = datasets.MNIST(root='F:/jupyter_notebook_file/Mnist/',\n",
    "                              train=False,\n",
    "                              transform=transforms.ToTensor(),\n",
    "                              download=True,)   \n",
    "test_loader = torch.utils.data.DataLoader(dataset=test_dataset,\n",
    "                                          batch_size=batch_size,\n",
    "                                          shuffle=False)\n",
    "\n",
    "classes = ('0','1', '2', '3', '4',\n",
    "           '5', '6', '7', '8', '9')"
   ]
  },
  {
   "cell_type": "code",
   "execution_count": 4,
   "id": "c7a9d31e",
   "metadata": {},
   "outputs": [
    {
     "data": {
      "image/png": "[encoded data removed]",
      "text/plain": [
       "<Figure size 640x480 with 1 Axes>"
      ]
     },
     "metadata": {},
     "output_type": "display_data"
    },
    {
     "name": "stdout",
     "output_type": "stream",
     "text": [
      "8     0     9     1    \n"
     ]
    }
   ],
   "source": [
    "import matplotlib.pyplot as plt\n",
    "import numpy as np\n",
    "\n",
    "# functions to show an image\n",
    "def imshow(img):\n",
    "    img = img / 2 + 0.5     # unnormalize\n",
    "    npimg = img.numpy()\n",
    "    plt.imshow(np.transpose(npimg, (1, 2, 0)))\n",
    "    plt.show()\n",
    "\n",
    "\n",
    "# get some random training images\n",
    "dataiter = iter(train_loader)\n",
    "images, labels = next(dataiter)\n",
    "\n",
    "# show images\n",
    "imshow(torchvision.utils.make_grid(images))\n",
    "# print labels\n",
    "print(' '.join(f'{classes[labels[j]]:5s}' for j in range(batch_size)))"
   ]
  },
  {
   "cell_type": "code",
   "execution_count": 5,
   "id": "b5ca749a",
   "metadata": {},
   "outputs": [],
   "source": [
    "# #MLP2\n",
    "class MLP(nn.Module):                    #继承nn.module\n",
    "    def __init__(self):\n",
    "        super(MLP, self).__init__()      #继承的作用\n",
    "        self.layer1 = nn.Linear(784,300) #hidden layer1-300\n",
    "        self.relu = nn.ReLU()\n",
    "        self.layer2 = nn.Linear(300,100)  #hidden layer2-100\n",
    "        self.layer3 = nn.Linear(100,10)\n",
    "\n",
    "    def forward(self,x):             #网络传播的结构\n",
    "        x = x.reshape(-1, 28*28)\n",
    "        x = self.layer1(x)\n",
    "        x = self.relu(x)\n",
    "        x = self.layer2(x)\n",
    "        x = self.relu(x)\n",
    "        y = self.layer3(x)\n",
    "        return y\n",
    "    \n",
    "mlp = MLP() #类的实例化"
   ]
  },
  {
   "cell_type": "code",
   "execution_count": 6,
   "id": "87bdadc5",
   "metadata": {},
   "outputs": [],
   "source": [
    "##Define a Loss function and optimizer\n",
    "loss_func = nn.CrossEntropyLoss()\n",
    "#optimizer = torch.optim.Adam(mlp.parameters(), lr=learning_rate)\n",
    "\n",
    "# criterion = nn.CrossEntropyLoss()  #交叉熵损失\n",
    "optimizer = torch.optim.SGD(mlp.parameters(), lr=0.001, momentum=0.9)"
   ]
  },
  {
   "cell_type": "code",
   "execution_count": 7,
   "id": "f7208aad",
   "metadata": {},
   "outputs": [
    {
     "name": "stdout",
     "output_type": "stream",
     "text": [
      "[1,  2000] loss: 1.127\n",
      "[1,  4000] loss: 0.421\n",
      "[1,  6000] loss: 0.338\n",
      "[1,  8000] loss: 0.285\n",
      "[1, 10000] loss: 0.261\n",
      "[1, 12000] loss: 0.217\n",
      "[1, 14000] loss: 0.198\n",
      "[2,  2000] loss: 0.155\n",
      "[2,  4000] loss: 0.155\n",
      "[2,  6000] loss: 0.155\n",
      "[2,  8000] loss: 0.134\n",
      "[2, 10000] loss: 0.126\n",
      "[2, 12000] loss: 0.119\n",
      "[2, 14000] loss: 0.117\n",
      "[3,  2000] loss: 0.103\n",
      "[3,  4000] loss: 0.099\n",
      "[3,  6000] loss: 0.092\n",
      "[3,  8000] loss: 0.083\n",
      "[3, 10000] loss: 0.083\n",
      "[3, 12000] loss: 0.082\n",
      "[3, 14000] loss: 0.092\n",
      "[4,  2000] loss: 0.069\n",
      "[4,  4000] loss: 0.068\n",
      "[4,  6000] loss: 0.059\n",
      "[4,  8000] loss: 0.062\n",
      "[4, 10000] loss: 0.064\n",
      "[4, 12000] loss: 0.071\n",
      "[4, 14000] loss: 0.071\n",
      "Finished Training\n"
     ]
    }
   ],
   "source": [
    "##Train the network\n",
    "for epoch in range(num_epochs):  # loop over the dataset multiple times\n",
    "    running_loss = 0.0\n",
    "    for i, (images, labels) in enumerate(train_loader): ## get the inputs; data is a list of [inputs, labels]\n",
    "        optimizer.zero_grad()    # zero the parameter gradients 清零梯度\n",
    "        # forward + backward + optimize\n",
    "        outputs = mlp(images)\n",
    "        loss = loss_func(outputs, labels)\n",
    "        loss.backward()                                #反向求梯度\n",
    "        optimizer.step()\n",
    "        \n",
    "#         # print statistics\n",
    "#         if (i+1) % 100 == 0: # print every 100 mini-batches\n",
    "#             print('Epoch [{}/{}], Loss: {:.4f}'.format(epoch + 1, num_epochs, loss.item()))\n",
    "        \n",
    "\n",
    "        running_loss += loss.item()\n",
    "        if i % 2000 == 1999:    \n",
    "            print(f'[{epoch + 1}, {i + 1:5d}] loss: {running_loss / 2000:.3f}')\n",
    "            running_loss = 0.0\n",
    "\n",
    "print('Finished Training')"
   ]
  },
  {
   "cell_type": "code",
   "execution_count": 8,
   "id": "9081e1f3",
   "metadata": {},
   "outputs": [
    {
     "data": {
      "image/png": "[encoded data removed]",
      "text/plain": [
       "<Figure size 640x480 with 1 Axes>"
      ]
     },
     "metadata": {},
     "output_type": "display_data"
    },
    {
     "name": "stdout",
     "output_type": "stream",
     "text": [
      "GroundTruth:  7     2     1     0    \n"
     ]
    }
   ],
   "source": [
    "#Test the network on the test data\n",
    "#display an image from the test set to look\n",
    "dataiter = iter(test_loader)\n",
    "images, labels = next(dataiter)\n",
    "\n",
    "# print images\n",
    "imshow(torchvision.utils.make_grid(images))\n",
    "print('GroundTruth: ', ' '.join(f'{classes[labels[j]]:5s}' for j in range(4)))"
   ]
  },
  {
   "cell_type": "code",
   "execution_count": 9,
   "id": "9ed7a502",
   "metadata": {},
   "outputs": [
    {
     "name": "stdout",
     "output_type": "stream",
     "text": [
      "测试准确率: 97.5800\n"
     ]
    }
   ],
   "source": [
    "#The outputs are energies for the 10 classes. \n",
    "#The higher the energy for a class, the more the network thinks that the image is of the particular class. \n",
    "#So, let’s get the index of the highest energy:\n",
    "#测试模型\n",
    "#mlp.eval()      #测试模式，关闭正则化\n",
    "correct = 0\n",
    "total = 0\n",
    "for images, labels in test_loader:\n",
    "    outputs = mlp(images)\n",
    "    _, predicted = torch.max(outputs, 1)   #返回值和索引\n",
    "    total += labels.size(0)\n",
    "    correct += (predicted == labels).sum().item()\n",
    "\n",
    "print('测试准确率: {:.4f}'.format(100.0*correct/total))"
   ]
  },
  {
   "cell_type": "code",
   "execution_count": 10,
   "id": "1dd33730",
   "metadata": {},
   "outputs": [
    {
     "name": "stdout",
     "output_type": "stream",
     "text": [
      "Accuracy of the network on the 10000 test images: 97 %\n"
     ]
    }
   ],
   "source": [
    "#Let us look at how the network performs on the whole dataset.\n",
    "correct = 0\n",
    "total = 0\n",
    "# since we're not training, we don't need to calculate the gradients for our outputs\n",
    "with torch.no_grad():\n",
    "    for data in test_loader:\n",
    "        images, labels = data\n",
    "        # calculate outputs by running images through the network\n",
    "        outputs = mlp(images)\n",
    "        # the class with the highest energy is what we choose as prediction\n",
    "        _, predicted = torch.max(outputs.data, 1)\n",
    "        total += labels.size(0)\n",
    "        correct += (predicted == labels).sum().item()\n",
    "\n",
    "print(f'Accuracy of the network on the 10000 test images: {100 * correct // total} %')"
   ]
  },
  {
   "cell_type": "code",
   "execution_count": 11,
   "id": "a196db5e",
   "metadata": {},
   "outputs": [
    {
     "name": "stdout",
     "output_type": "stream",
     "text": [
      "Accuracy for class: 0     is 98.8 %\n",
      "Accuracy for class: 1     is 99.4 %\n",
      "Accuracy for class: 2     is 97.4 %\n",
      "Accuracy for class: 3     is 98.4 %\n",
      "Accuracy for class: 4     is 96.5 %\n",
      "Accuracy for class: 5     is 96.3 %\n",
      "Accuracy for class: 6     is 97.7 %\n",
      "Accuracy for class: 7     is 96.8 %\n",
      "Accuracy for class: 8     is 97.4 %\n",
      "Accuracy for class: 9     is 96.7 %\n"
     ]
    }
   ],
   "source": [
    "# what are the classes that performed well, and the classes that did not perform well:\n",
    "# prepare to count predictions for each class\n",
    "correct_pred = {classname: 0 for classname in classes}\n",
    "total_pred = {classname: 0 for classname in classes}\n",
    "\n",
    "# again no gradients needed\n",
    "with torch.no_grad():\n",
    "    for data in test_loader:\n",
    "        images, labels = data\n",
    "        outputs = mlp(images)\n",
    "        _, predictions = torch.max(outputs, 1)\n",
    "        # collect the correct predictions for each class\n",
    "        for label, prediction in zip(labels, predictions):\n",
    "            if label == prediction:\n",
    "                correct_pred[classes[label]] += 1\n",
    "            total_pred[classes[label]] += 1\n",
    "\n",
    "\n",
    "# print accuracy for each class\n",
    "for classname, correct_count in correct_pred.items():\n",
    "    accuracy = 100 * float(correct_count) / total_pred[classname]\n",
    "    print(f'Accuracy for class: {classname:5s} is {accuracy:.1f} %')"
   ]
  },
  {
   "cell_type": "code",
   "execution_count": 12,
   "id": "b3ae4194",
   "metadata": {},
   "outputs": [
    {
     "name": "stdout",
     "output_type": "stream",
     "text": [
      "----------------------  ------------  ------------  ------------  ------------  ------------  ------------  \n",
      "                  Name    Self CPU %      Self CPU   CPU total %     CPU total  CPU time avg    # of Calls  \n",
      "----------------------  ------------  ------------  ------------  ------------  ------------  ------------  \n",
      "       model_inference        43.79%     261.000us       100.00%     596.000us     596.000us             1  \n",
      "          aten::linear         3.36%      20.000us        46.31%     276.000us      92.000us             3  \n",
      "           aten::addmm        29.03%     173.000us        34.90%     208.000us      69.333us             3  \n",
      "               aten::t         4.87%      29.000us         8.05%      48.000us      16.000us             3  \n",
      "            aten::relu         3.69%      22.000us         6.54%      39.000us      19.500us             2  \n",
      "           aten::copy_         3.69%      22.000us         3.69%      22.000us       7.333us             3  \n",
      "         aten::reshape         1.01%       6.000us         3.36%      20.000us      20.000us             1  \n",
      "       aten::transpose         2.35%      14.000us         3.19%      19.000us       6.333us             3  \n",
      "       aten::clamp_min         2.85%      17.000us         2.85%      17.000us       8.500us             2  \n",
      "            aten::view         2.35%      14.000us         2.35%      14.000us      14.000us             1  \n",
      "----------------------  ------------  ------------  ------------  ------------  ------------  ------------  \n",
      "Self CPU time total: 596.000us\n",
      "\n",
      "----------------------  ------------  ------------  ------------  ------------  ------------  ------------  \n",
      "                  Name    Self CPU %      Self CPU   CPU total %     CPU total  CPU time avg    # of Calls  \n",
      "----------------------  ------------  ------------  ------------  ------------  ------------  ------------  \n",
      "          aten::linear         4.36%      12.000us        83.27%     229.000us      76.333us             3  \n",
      "           aten::addmm        54.91%     151.000us        64.73%     178.000us      59.333us             3  \n",
      "               aten::t         8.36%      23.000us        14.18%      39.000us      13.000us             3  \n",
      "            aten::relu         5.82%      16.000us        11.27%      31.000us      15.500us             2  \n",
      "           aten::copy_         6.55%      18.000us         6.55%      18.000us       6.000us             3  \n",
      "       aten::transpose         4.36%      12.000us         5.82%      16.000us       5.333us             3  \n",
      "         aten::reshape         1.45%       4.000us         5.45%      15.000us      15.000us             1  \n",
      "       aten::clamp_min         5.45%      15.000us         5.45%      15.000us       7.500us             2  \n",
      "            aten::view         4.00%      11.000us         4.00%      11.000us      11.000us             1  \n",
      "          aten::expand         3.27%       9.000us         3.27%       9.000us       3.000us             3  \n",
      "----------------------  ------------  ------------  ------------  ------------  ------------  ------------  \n",
      "Self CPU time total: 275.000us\n",
      "\n"
     ]
    }
   ],
   "source": [
    "#Use PyTorch Profiler to characterize \n",
    "#execution time and memory consumption\n",
    "from torch.profiler import profile, record_function, ProfilerActivity\n",
    "\n",
    "#Using profiler to analyze execution time\n",
    "with profile(activities=[ProfilerActivity.CPU], record_shapes=True) as prof:\n",
    "    with record_function(\"model_inference\"):\n",
    "        mlp(images)\n",
    "        \n",
    "print(prof.key_averages().table(sort_by=\"cpu_time_total\", row_limit=10))\n",
    "\n",
    "#Using profiler to analyze execution time\n",
    "with profile(activities=[ProfilerActivity.CPU], record_shapes=True) as prof:\n",
    "    #with record_function(\"model_inference\"): #删去之后和下面的图是一样的比例了\n",
    "    mlp(images)\n",
    "        \n",
    "print(prof.key_averages().table(sort_by=\"cpu_time_total\", row_limit=10))"
   ]
  },
  {
   "cell_type": "code",
   "execution_count": 13,
   "id": "e1b45ac5",
   "metadata": {},
   "outputs": [],
   "source": [
    "# print(prof.key_averages(group_by_input_shape=True).table(sort_by=\"cpu_time_total\", row_limit=10))"
   ]
  },
  {
   "cell_type": "code",
   "execution_count": 16,
   "id": "00ff0330",
   "metadata": {},
   "outputs": [
    {
     "name": "stdout",
     "output_type": "stream",
     "text": [
      "----------------------  ------------  ------------  ------------  ------------  ------------  ------------  ------------  ------------  \n",
      "                  Name    Self CPU %      Self CPU   CPU total %     CPU total  CPU time avg       CPU Mem  Self CPU Mem    # of Calls  \n",
      "----------------------  ------------  ------------  ------------  ------------  ------------  ------------  ------------  ------------  \n",
      "       model_inference        48.44%     730.000us       100.00%       1.507ms       1.507ms           0 b     -12.66 Kb             1  \n",
      "          aten::linear         2.19%      33.000us        42.40%     639.000us     213.000us       6.41 Kb           0 b             3  \n",
      "           aten::addmm        28.67%     432.000us        33.31%     502.000us     167.333us       6.41 Kb       6.41 Kb             3  \n",
      "            aten::relu         3.58%      54.000us         7.03%     106.000us      53.000us       6.25 Kb           0 b             2  \n",
      "               aten::t         4.11%      62.000us         6.90%     104.000us      34.667us           0 b           0 b             3  \n",
      "       aten::clamp_min         3.45%      52.000us         3.45%      52.000us      26.000us       6.25 Kb       6.25 Kb             2  \n",
      "       aten::transpose         1.86%      28.000us         2.79%      42.000us      14.000us           0 b           0 b             3  \n",
      "           aten::copy_         2.72%      41.000us         2.72%      41.000us      13.667us           0 b           0 b             3  \n",
      "         aten::reshape         0.60%       9.000us         2.12%      32.000us      32.000us           0 b           0 b             1  \n",
      "          aten::expand         1.46%      22.000us         1.92%      29.000us       9.667us           0 b           0 b             3  \n",
      "----------------------  ------------  ------------  ------------  ------------  ------------  ------------  ------------  ------------  \n",
      "Self CPU time total: 1.507ms\n",
      "\n",
      "----------------------  ------------  ------------  ------------  ------------  ------------  ------------  ------------  ------------  \n",
      "                  Name    Self CPU %      Self CPU   CPU total %     CPU total  CPU time avg       CPU Mem  Self CPU Mem    # of Calls  \n",
      "----------------------  ------------  ------------  ------------  ------------  ------------  ------------  ------------  ------------  \n",
      "       model_inference        48.44%     730.000us       100.00%       1.507ms       1.507ms           0 b     -12.66 Kb             1  \n",
      "          aten::linear         2.19%      33.000us        42.40%     639.000us     213.000us       6.41 Kb           0 b             3  \n",
      "           aten::addmm        28.67%     432.000us        33.31%     502.000us     167.333us       6.41 Kb       6.41 Kb             3  \n",
      "            aten::relu         3.58%      54.000us         7.03%     106.000us      53.000us       6.25 Kb           0 b             2  \n",
      "               aten::t         4.11%      62.000us         6.90%     104.000us      34.667us           0 b           0 b             3  \n",
      "       aten::clamp_min         3.45%      52.000us         3.45%      52.000us      26.000us       6.25 Kb       6.25 Kb             2  \n",
      "       aten::transpose         1.86%      28.000us         2.79%      42.000us      14.000us           0 b           0 b             3  \n",
      "           aten::copy_         2.72%      41.000us         2.72%      41.000us      13.667us           0 b           0 b             3  \n",
      "         aten::reshape         0.60%       9.000us         2.12%      32.000us      32.000us           0 b           0 b             1  \n",
      "          aten::expand         1.46%      22.000us         1.92%      29.000us       9.667us           0 b           0 b             3  \n",
      "            aten::view         1.53%      23.000us         1.53%      23.000us      23.000us           0 b           0 b             1  \n",
      "      aten::as_strided         1.39%      21.000us         1.39%      21.000us       3.500us           0 b           0 b             6  \n",
      "    aten::resolve_conj         0.00%       0.000us         0.00%       0.000us       0.000us           0 b           0 b             6  \n",
      "----------------------  ------------  ------------  ------------  ------------  ------------  ------------  ------------  ------------  \n",
      "Self CPU time total: 1.507ms\n",
      "\n"
     ]
    }
   ],
   "source": [
    "#Using profiler to analyze memory consumption\n",
    "\n",
    "with profile(activities=[ProfilerActivity.CPU],profile_memory=True, record_shapes=True) as prof:\n",
    "    with record_function(\"model_inference\"): \n",
    "        mlp(images)\n",
    "    \n",
    "#print(prof.key_averages().table(sort_by=\"self_cpu_memory_usage\", row_limit=10))\n",
    "print(prof.key_averages().table(sort_by=\"cpu_time_total\", row_limit=10))\n",
    "print(prof.key_averages().table(sort_by=\"cpu_time_total\"))"
   ]
  },
  {
   "cell_type": "code",
   "execution_count": null,
   "id": "809b464c",
   "metadata": {},
   "outputs": [],
   "source": []
  },
  {
   "cell_type": "code",
   "execution_count": null,
   "id": "8b291d6d",
   "metadata": {},
   "outputs": [],
   "source": []
  }
 ],
 "metadata": {
  "kernelspec": {
   "display_name": "py311",
   "language": "python",
   "name": "py311"
  },
  "language_info": {
   "codemirror_mode": {
    "name": "ipython",
    "version": 3
   },
   "file_extension": ".py",
   "mimetype": "text/x-python",
   "name": "python",
   "nbconvert_exporter": "python",
   "pygments_lexer": "ipython3",
   "version": "3.11.5"
  }
 },
 "nbformat": 4,
 "nbformat_minor": 5
}
