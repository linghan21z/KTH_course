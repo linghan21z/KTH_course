{
 "cells": [
  {
   "cell_type": "code",
   "execution_count": 31,
   "id": "9f2685b6",
   "metadata": {
    "tags": []
   },
   "outputs": [],
   "source": [
    "## load training and test datasets using torchvision\n",
    "## define a CNN\n",
    "## loss func\n",
    "## train\n",
    "## test"
   ]
  },
  {
   "cell_type": "code",
   "execution_count": 32,
   "id": "7a30677e",
   "metadata": {
    "tags": []
   },
   "outputs": [],
   "source": [
    "import torch\n",
    "import torch.nn as nn\n",
    "import torchvision                          #torch中用来处理图像的库\n",
    "from torchvision import datasets,transforms\n",
    "import matplotlib.pyplot as plt\n",
    "\n",
    "#设置一些超参\n",
    "num_epochs = 2        #训练的周期\n",
    "batch_size = 4      #批训练的数量\n",
    "learning_rate = 0.001 #学习率（0.1,0.01,0.001）"
   ]
  },
  {
   "cell_type": "code",
   "execution_count": 33,
   "id": "720b9322",
   "metadata": {
    "tags": []
   },
   "outputs": [],
   "source": [
    "import os\n",
    "os.environ['TORCH_HOME']='D:/dataset/'\n",
    "#导入训练数据\n",
    "train_dataset = datasets.MNIST(root='D:/dataset/',                #数据集保存路径\n",
    "                               train=True,                      #是否作为训练集\n",
    "                               transform=transforms.ToTensor(), #数据如何处理, 可以自己自定义\n",
    "                               download=True)                  #路径下没有的话, 可以下载           \n",
    "train_loader = torch.utils.data.DataLoader(dataset=train_dataset, #分批\n",
    "                                           batch_size=batch_size,\n",
    "                                           shuffle=True)          #随机分批\n",
    "#导入测试数据\n",
    "test_dataset = datasets.MNIST(root='D:/dataset/',\n",
    "                              train=False,\n",
    "                              transform=transforms.ToTensor(),\n",
    "                              download=True,)   \n",
    "test_loader = torch.utils.data.DataLoader(dataset=test_dataset,\n",
    "                                          batch_size=batch_size,\n",
    "                                          shuffle=False)\n",
    "\n",
    "classes = ('0','1', '2', '3', '4',\n",
    "           '5', '6', '7', '8', '9')"
   ]
  },
  {
   "cell_type": "code",
   "execution_count": 34,
   "id": "c7a9d31e",
   "metadata": {
    "tags": []
   },
   "outputs": [
    {
     "data": {
      "image/png": "[encoded data removed]",
      "text/plain": [
       "<Figure size 640x480 with 1 Axes>"
      ]
     },
     "metadata": {},
     "output_type": "display_data"
    },
    {
     "name": "stdout",
     "output_type": "stream",
     "text": [
      "0     3     3     5    \n"
     ]
    }
   ],
   "source": [
    "import matplotlib.pyplot as plt\n",
    "import numpy as np\n",
    "\n",
    "# functions to show an image\n",
    "def imshow(img):\n",
    "    img = img / 2 + 0.5     # unnormalize\n",
    "    npimg = img.numpy()\n",
    "    plt.imshow(np.transpose(npimg, (1, 2, 0)))\n",
    "    plt.show()\n",
    "\n",
    "\n",
    "# get some random training images\n",
    "dataiter = iter(train_loader)\n",
    "images, labels = next(dataiter)\n",
    "\n",
    "# show images\n",
    "imshow(torchvision.utils.make_grid(images))\n",
    "# print labels\n",
    "print(' '.join(f'{classes[labels[j]]:5s}' for j in range(batch_size)))"
   ]
  },
  {
   "cell_type": "code",
   "execution_count": 35,
   "id": "b5ca749a",
   "metadata": {
    "tags": []
   },
   "outputs": [],
   "source": [
    "# class MLP(nn.Module):                    \n",
    "#     def __init__(self, neurons_layer1):\n",
    "#         super(MLP, self).__init__()\n",
    "#         self.layer1 = nn.Linear(784, neurons_layer1) # 第一隐藏层神经元数量由参数决定\n",
    "#         self.relu = nn.ReLU()\n",
    "#         self.layer2 = nn.Linear(neurons_layer1, 100) # 第二隐藏层神经元数量固定为 100\n",
    "#         self.layer3 = nn.Linear(100, 10)             # 输出层\n",
    "\n",
    "#     def forward(self, x):\n",
    "#         x = x.reshape(-1, 28*28)\n",
    "#         x = self.layer1(x)\n",
    "#         x = self.relu(x)\n",
    "#         x = self.layer2(x)\n",
    "#         x = self.relu(x)\n",
    "#         y = self.layer3(x)\n",
    "#         return y\n",
    "\n",
    "# # 实例化\n",
    "# mlp_50_neurons = MLP(100)\n",
    "# mlp_100_neurons = MLP(200)  #  50 个神经元\n",
    "# mlp_150_neurons = MLP(300) \n",
    "# mlp_200_neurons = MLP(400) \n"
   ]
  },
  {
   "cell_type": "code",
   "execution_count": 36,
   "id": "1387c073-244a-41bf-8594-50baf6354646",
   "metadata": {},
   "outputs": [],
   "source": [
    "class MLP(nn.Module):                    \n",
    "    def __init__(self, neurons_layer2):\n",
    "        super(MLP, self).__init__()\n",
    "        self.layer1 = nn.Linear(784, 300) # 第一隐藏层神经元数量由参数决定\n",
    "        self.relu = nn.ReLU()\n",
    "        self.layer2 = nn.Linear(300, neurons_layer2) # 第二隐藏层神经元数量固定为 100\n",
    "        self.layer3 = nn.Linear(neurons_layer2, 10)             # 输出层\n",
    "\n",
    "    def forward(self, x):\n",
    "        x = x.reshape(-1, 28*28)\n",
    "        x = self.layer1(x)\n",
    "        x = self.relu(x)\n",
    "        x = self.layer2(x)\n",
    "        x = self.relu(x)\n",
    "        y = self.layer3(x)\n",
    "        return y\n",
    "\n",
    "# 实例化\n",
    "mlp_10_neurons = MLP(10)\n",
    "mlp_20_neurons = MLP(20)  #  50 个神经元\n",
    "mlp_50_neurons = MLP(50) \n",
    "mlp_100_neurons = MLP(100) \n",
    "mlp_200_neurons = MLP(200) \n",
    "#layer2"
   ]
  },
  {
   "cell_type": "code",
   "execution_count": 37,
   "id": "37e035c1-e1ba-4b17-8787-486058e48429",
   "metadata": {
    "tags": []
   },
   "outputs": [],
   "source": [
    "# mlp_models = {\n",
    "#     100: MLP(100),\n",
    "#     200: MLP(200),\n",
    "#     300: MLP(300),\n",
    "#     400: MLP(400)\n",
    "# }\n",
    "# #实例化的library"
   ]
  },
  {
   "cell_type": "code",
   "execution_count": 38,
   "id": "c338900a-4322-4851-96ae-291b2660b737",
   "metadata": {},
   "outputs": [],
   "source": [
    "mlp_models = {\n",
    "    10: MLP(10),\n",
    "    20: MLP(20),\n",
    "    50: MLP(50),\n",
    "    100: MLP(100),\n",
    "    200: MLP(200)\n",
    "}"
   ]
  },
  {
   "cell_type": "code",
   "execution_count": 39,
   "id": "f7208aad",
   "metadata": {
    "tags": []
   },
   "outputs": [
    {
     "name": "stdout",
     "output_type": "stream",
     "text": [
      "[1,  2000] loss: 1.197\n",
      "[1,  4000] loss: 0.436\n",
      "[1,  6000] loss: 0.367\n",
      "[1,  8000] loss: 0.301\n",
      "[1, 10000] loss: 0.260\n",
      "[1, 12000] loss: 0.225\n",
      "[1, 14000] loss: 0.211\n",
      "[2,  2000] loss: 0.165\n",
      "[2,  4000] loss: 0.163\n",
      "[2,  6000] loss: 0.148\n",
      "[2,  8000] loss: 0.142\n",
      "[2, 10000] loss: 0.131\n",
      "[2, 12000] loss: 0.136\n",
      "[2, 14000] loss: 0.120\n",
      "[1,  2000] loss: 1.181\n",
      "[1,  4000] loss: 0.423\n",
      "[1,  6000] loss: 0.347\n",
      "[1,  8000] loss: 0.300\n",
      "[1, 10000] loss: 0.254\n",
      "[1, 12000] loss: 0.225\n",
      "[1, 14000] loss: 0.207\n",
      "[2,  2000] loss: 0.160\n",
      "[2,  4000] loss: 0.157\n",
      "[2,  6000] loss: 0.137\n",
      "[2,  8000] loss: 0.133\n",
      "[2, 10000] loss: 0.134\n",
      "[2, 12000] loss: 0.143\n",
      "[2, 14000] loss: 0.131\n",
      "[1,  2000] loss: 1.206\n",
      "[1,  4000] loss: 0.395\n",
      "[1,  6000] loss: 0.315\n",
      "[1,  8000] loss: 0.296\n",
      "[1, 10000] loss: 0.259\n",
      "[1, 12000] loss: 0.223\n",
      "[1, 14000] loss: 0.194\n",
      "[2,  2000] loss: 0.164\n",
      "[2,  4000] loss: 0.160\n",
      "[2,  6000] loss: 0.139\n",
      "[2,  8000] loss: 0.133\n",
      "[2, 10000] loss: 0.144\n",
      "[2, 12000] loss: 0.115\n",
      "[2, 14000] loss: 0.110\n",
      "[1,  2000] loss: 1.112\n",
      "[1,  4000] loss: 0.399\n",
      "[1,  6000] loss: 0.320\n",
      "[1,  8000] loss: 0.278\n",
      "[1, 10000] loss: 0.243\n",
      "[1, 12000] loss: 0.221\n",
      "[1, 14000] loss: 0.205\n",
      "[2,  2000] loss: 0.158\n",
      "[2,  4000] loss: 0.161\n",
      "[2,  6000] loss: 0.147\n",
      "[2,  8000] loss: 0.137\n",
      "[2, 10000] loss: 0.120\n",
      "[2, 12000] loss: 0.135\n",
      "[2, 14000] loss: 0.126\n",
      "[1,  2000] loss: 1.108\n",
      "[1,  4000] loss: 0.413\n",
      "[1,  6000] loss: 0.325\n",
      "[1,  8000] loss: 0.293\n",
      "[1, 10000] loss: 0.254\n",
      "[1, 12000] loss: 0.205\n",
      "[1, 14000] loss: 0.202\n",
      "[2,  2000] loss: 0.158\n",
      "[2,  4000] loss: 0.166\n",
      "[2,  6000] loss: 0.146\n",
      "[2,  8000] loss: 0.143\n",
      "[2, 10000] loss: 0.128\n",
      "[2, 12000] loss: 0.126\n",
      "[2, 14000] loss: 0.122\n",
      "Finished Training\n"
     ]
    }
   ],
   "source": [
    "#Define a Loss function and optimizer\n",
    "loss_func = nn.CrossEntropyLoss()\n",
    "\n",
    "# criterion = nn.CrossEntropyLoss()  #交叉熵损失\n",
    "for neuron_count, mlp in mlp_models.items():\n",
    "    # 为每个模型创建一个新的优化器\n",
    "    optimizer = torch.optim.SGD(mlp.parameters(), lr=0.001, momentum=0.9)\n",
    "##Train the network\n",
    "    mlp.train()\n",
    "    for epoch in range(num_epochs):  # loop over the dataset multiple times\n",
    "        running_loss = 0.0\n",
    "        for i, (images, labels) in enumerate(train_loader): ## get the inputs; data is a list of [inputs, labels]\n",
    "            optimizer.zero_grad()    # zero the parameter gradients 清零梯度\n",
    "            # forward + backward + optimize\n",
    "            outputs = mlp(images)\n",
    "            loss = loss_func(outputs, labels)\n",
    "            loss.backward()                                #反向求梯度\n",
    "            optimizer.step()\n",
    "            running_loss += loss.item()\n",
    "            if i % 2000 == 1999:    \n",
    "                print(f'[{epoch + 1}, {i + 1:5d}] loss: {running_loss / 2000:.3f}')\n",
    "                running_loss = 0.0\n",
    "\n",
    "print('Finished Training')"
   ]
  },
  {
   "cell_type": "code",
   "execution_count": 40,
   "id": "9081e1f3",
   "metadata": {
    "tags": []
   },
   "outputs": [
    {
     "data": {
      "image/png": "[encoded data removed]",
      "text/plain": [
       "<Figure size 640x480 with 1 Axes>"
      ]
     },
     "metadata": {},
     "output_type": "display_data"
    },
    {
     "name": "stdout",
     "output_type": "stream",
     "text": [
      "GroundTruth:  7     2     1     0    \n"
     ]
    }
   ],
   "source": [
    "#Test the network on the test data\n",
    "#display an image from the test set to look\n",
    "dataiter = iter(test_loader)\n",
    "images, labels = next(dataiter)\n",
    "\n",
    "# print images\n",
    "imshow(torchvision.utils.make_grid(images))\n",
    "print('GroundTruth: ', ' '.join(f'{classes[labels[j]]:5s}' for j in range(4)))"
   ]
  },
  {
   "cell_type": "code",
   "execution_count": 46,
   "id": "9ed7a502",
   "metadata": {
    "tags": []
   },
   "outputs": [
    {
     "name": "stdout",
     "output_type": "stream",
     "text": [
      "Accuracy（10 neurons）: 96.4700%\n",
      "Accuracy（20 neurons）: 96.9000%\n",
      "Accuracy（50 neurons）: 96.6300%\n",
      "Accuracy（100 neurons）: 96.6400%\n",
      "Accuracy（200 neurons）: 96.3600%\n"
     ]
    }
   ],
   "source": [
    "accuracy_data = {}  # 用于存储不同神经元数量的准确率\n",
    "\n",
    "for neuron_count, mlp in mlp_models.items():\n",
    "    correct = 0\n",
    "    total = 0\n",
    "    mlp.eval()  # 测试模式\n",
    "    with torch.no_grad():\n",
    "        for images, labels in test_loader:\n",
    "            outputs = mlp(images)\n",
    "            _, predicted = torch.max(outputs, 1)\n",
    "            total += labels.size(0)\n",
    "            correct += (predicted == labels).sum().item()\n",
    "\n",
    "    accuracy = 100.0 * correct / total\n",
    "    accuracy_data[neuron_count] = accuracy  # 存储准确率\n",
    "    print(f'Accuracy（{neuron_count} neurons）: {accuracy:.4f}%')\n"
   ]
  },
  {
   "cell_type": "code",
   "execution_count": 52,
   "id": "a56abaed-38b0-4eb0-803f-e4703d5580b8",
   "metadata": {
    "tags": []
   },
   "outputs": [
    {
     "data": {
      "image/png": "[encoded data removed]",
      "text/plain": [
       "<Figure size 640x480 with 1 Axes>"
      ]
     },
     "metadata": {},
     "output_type": "display_data"
    }
   ],
   "source": [
    "import matplotlib.pyplot as plt\n",
    "\n",
    "# 提取神经元数量和相应的准确率\n",
    "neuron_counts = list(accuracy_data.keys())\n",
    "accuracies = list(accuracy_data.values())\n",
    "\n",
    "# 绘制柱状图\n",
    "plt.plot(neuron_counts, accuracies, marker='o')\n",
    "\n",
    "# 设置图表标题和坐标轴标签\n",
    "plt.title('Accuracy vs Number of Neurons of layer2 in MLP2')\n",
    "plt.xlabel('Number of Neurons in hidden layer2')\n",
    "plt.ylabel('Accuracy (%)')\n",
    "#限定范围\n",
    "plt.ylim(90, 100)\n",
    "\n",
    "# 显示图表\n",
    "plt.show()\n"
   ]
  },
  {
   "cell_type": "code",
   "execution_count": 42,
   "id": "1dd33730",
   "metadata": {
    "tags": []
   },
   "outputs": [
    {
     "name": "stdout",
     "output_type": "stream",
     "text": [
      "Accuracy of the network on the 10000 test images: 96 %\n"
     ]
    }
   ],
   "source": [
    "#Let us look at how the network performs on the whole dataset.\n",
    "correct = 0\n",
    "total = 0\n",
    "# since we're not training, we don't need to calculate the gradients for our outputs\n",
    "with torch.no_grad():\n",
    "    for data in test_loader:\n",
    "        images, labels = data\n",
    "        # calculate outputs by running images through the network\n",
    "        outputs = mlp(images)\n",
    "        # the class with the highest energy is what we choose as prediction\n",
    "        _, predicted = torch.max(outputs.data, 1)\n",
    "        total += labels.size(0)\n",
    "        correct += (predicted == labels).sum().item()\n",
    "\n",
    "print(f'Accuracy of the network on the 10000 test images: {100 * correct // total} %')"
   ]
  },
  {
   "cell_type": "code",
   "execution_count": 43,
   "id": "a196db5e",
   "metadata": {
    "tags": []
   },
   "outputs": [
    {
     "name": "stdout",
     "output_type": "stream",
     "text": [
      "Accuracy for class: 0     is 98.0 %\n",
      "Accuracy for class: 1     is 98.2 %\n",
      "Accuracy for class: 2     is 95.5 %\n",
      "Accuracy for class: 3     is 93.7 %\n",
      "Accuracy for class: 4     is 95.9 %\n",
      "Accuracy for class: 5     is 97.1 %\n",
      "Accuracy for class: 6     is 96.9 %\n",
      "Accuracy for class: 7     is 96.1 %\n",
      "Accuracy for class: 8     is 97.0 %\n",
      "Accuracy for class: 9     is 95.1 %\n"
     ]
    }
   ],
   "source": [
    "# what are the classes that performed well, and the classes that did not perform well:\n",
    "# prepare to count predictions for each class\n",
    "correct_pred = {classname: 0 for classname in classes}\n",
    "total_pred = {classname: 0 for classname in classes}\n",
    "\n",
    "# again no gradients needed\n",
    "with torch.no_grad():\n",
    "    for data in test_loader:\n",
    "        images, labels = data\n",
    "        outputs = mlp(images)\n",
    "        _, predictions = torch.max(outputs, 1)\n",
    "        # collect the correct predictions for each class\n",
    "        for label, prediction in zip(labels, predictions):\n",
    "            if label == prediction:\n",
    "                correct_pred[classes[label]] += 1\n",
    "            total_pred[classes[label]] += 1\n",
    "\n",
    "\n",
    "# print accuracy for each class\n",
    "for classname, correct_count in correct_pred.items():\n",
    "    accuracy = 100 * float(correct_count) / total_pred[classname]\n",
    "    print(f'Accuracy for class: {classname:5s} is {accuracy:.1f} %')"
   ]
  },
  {
   "cell_type": "code",
   "execution_count": 54,
   "id": "00ff0330",
   "metadata": {
    "tags": []
   },
   "outputs": [
    {
     "name": "stdout",
     "output_type": "stream",
     "text": [
      "----------------------  ------------  ------------  ------------  ------------  ------------  ------------  ------------  ------------  \n",
      "                  Name    Self CPU %      Self CPU   CPU total %     CPU total  CPU time avg       CPU Mem  Self CPU Mem    # of Calls  \n",
      "----------------------  ------------  ------------  ------------  ------------  ------------  ------------  ------------  ------------  \n",
      "       model_inference        39.66%     397.000us       100.00%       1.001ms       1.001ms           0 b     -15.78 Kb             1  \n",
      "          aten::linear         2.00%      20.000us        46.45%     465.000us     155.000us       7.97 Kb           0 b             3  \n",
      "           aten::addmm        32.97%     330.000us        37.26%     373.000us     124.333us       7.97 Kb       7.97 Kb             3  \n",
      "            aten::relu         8.39%      84.000us        11.49%     115.000us      57.500us       7.81 Kb           0 b             2  \n",
      "               aten::t         4.70%      47.000us         7.19%      72.000us      24.000us           0 b           0 b             3  \n",
      "       aten::clamp_min         3.10%      31.000us         3.10%      31.000us      15.500us       7.81 Kb       7.81 Kb             2  \n",
      "           aten::copy_         2.90%      29.000us         2.90%      29.000us       9.667us           0 b           0 b             3  \n",
      "       aten::transpose         1.90%      19.000us         2.50%      25.000us       8.333us           0 b           0 b             3  \n",
      "         aten::reshape         0.40%       4.000us         2.40%      24.000us      24.000us           0 b           0 b             1  \n",
      "            aten::view         2.00%      20.000us         2.00%      20.000us      20.000us           0 b           0 b             1  \n",
      "----------------------  ------------  ------------  ------------  ------------  ------------  ------------  ------------  ------------  \n",
      "Self CPU time total: 1.001ms\n",
      "\n"
     ]
    }
   ],
   "source": [
    "#Using profiler to analyze memory consumption\n",
    "\n",
    "with profile(activities=[ProfilerActivity.CPU],\n",
    "        profile_memory=True, record_shapes=True) as prof:\n",
    "    with record_function(\"model_inference\"):\n",
    "        mlp(images)\n",
    "    \n",
    "#print(prof.key_averages().table(sort_by=\"self_cpu_memory_usage\", row_limit=10))\n",
    "print(prof.key_averages().table(sort_by=\"cpu_time_total\", row_limit=10))"
   ]
  },
  {
   "cell_type": "code",
   "execution_count": null,
   "id": "73c98423-92d0-498a-9650-4e7875a25957",
   "metadata": {},
   "outputs": [],
   "source": []
  }
 ],
 "metadata": {
  "kernelspec": {
   "display_name": "Python 3 (ipykernel)",
   "language": "python",
   "name": "python3"
  },
  "language_info": {
   "codemirror_mode": {
    "name": "ipython",
    "version": 3
   },
   "file_extension": ".py",
   "mimetype": "text/x-python",
   "name": "python",
   "nbconvert_exporter": "python",
   "pygments_lexer": "ipython3",
   "version": "3.11.5"
  }
 },
 "nbformat": 4,
 "nbformat_minor": 5
}
