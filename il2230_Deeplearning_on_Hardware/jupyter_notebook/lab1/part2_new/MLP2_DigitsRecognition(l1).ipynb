{
  "cells": [
    {
      "cell_type": "code",
      "execution_count": 8,
      "id": "9f2685b6",
      "metadata": {
        "tags": [],
        "id": "9f2685b6"
      },
      "outputs": [],
      "source": [
        "## load training and test datasets using torchvision\n",
        "## define a CNN\n",
        "## loss func\n",
        "## train\n",
        "## test"
      ]
    },
    {
      "cell_type": "code",
      "execution_count": 9,
      "id": "7a30677e",
      "metadata": {
        "tags": [],
        "id": "7a30677e"
      },
      "outputs": [],
      "source": [
        "import torch\n",
        "import torch.nn as nn\n",
        "import torchvision                          #torch中用来处理图像的库\n",
        "from torchvision import datasets,transforms\n",
        "import matplotlib.pyplot as plt\n",
        "\n",
        "#设置一些超参\n",
        "num_epochs = 2        #训练的周期\n",
        "batch_size = 4      #批训练的数量\n",
        "learning_rate = 0.001 #学习率（0.1,0.01,0.001）"
      ]
    },
    {
      "cell_type": "code",
      "execution_count": 10,
      "id": "720b9322",
      "metadata": {
        "tags": [],
        "id": "720b9322"
      },
      "outputs": [],
      "source": [
        "import os\n",
        "os.environ['TORCH_HOME']='D:/dataset/'\n",
        "#导入训练数据\n",
        "train_dataset = datasets.MNIST(root='D:/dataset/',                #数据集保存路径\n",
        "                               train=True,                      #是否作为训练集\n",
        "                               transform=transforms.ToTensor(), #数据如何处理, 可以自己自定义\n",
        "                               download=True)                  #路径下没有的话, 可以下载\n",
        "train_loader = torch.utils.data.DataLoader(dataset=train_dataset, #分批\n",
        "                                           batch_size=batch_size,\n",
        "                                           shuffle=True)          #随机分批\n",
        "#导入测试数据\n",
        "test_dataset = datasets.MNIST(root='D:/dataset/',\n",
        "                              train=False,\n",
        "                              transform=transforms.ToTensor(),\n",
        "                              download=True,)\n",
        "test_loader = torch.utils.data.DataLoader(dataset=test_dataset,\n",
        "                                          batch_size=batch_size,\n",
        "                                          shuffle=False)\n",
        "\n",
        "classes = ('0','1', '2', '3', '4',\n",
        "           '5', '6', '7', '8', '9')"
      ]
    },
    {
      "cell_type": "code",
      "execution_count": 11,
      "id": "c7a9d31e",
      "metadata": {
        "tags": [],
        "colab": {
          "base_uri": "https://localhost:8080/",
          "height": 212
        },
        "id": "c7a9d31e",
        "outputId": "7a13873c-22aa-4acd-d5de-6c82c06387a4"
      },
      "outputs": [
        {
          "output_type": "display_data",
          "data": {
            "text/plain": [
              "<Figure size 640x480 with 1 Axes>"
            ],
            "image/png": "[encoded data removed]"
          },
          "metadata": {}
        },
        {
          "output_type": "stream",
          "name": "stdout",
          "text": [
            "8     7     8     2    \n"
          ]
        }
      ],
      "source": [
        "import matplotlib.pyplot as plt\n",
        "import numpy as np\n",
        "\n",
        "# functions to show an image\n",
        "def imshow(img):\n",
        "    img = img / 2 + 0.5     # unnormalize\n",
        "    npimg = img.numpy()\n",
        "    plt.imshow(np.transpose(npimg, (1, 2, 0)))\n",
        "    plt.show()\n",
        "\n",
        "\n",
        "# get some random training images\n",
        "dataiter = iter(train_loader)\n",
        "images, labels = next(dataiter)\n",
        "\n",
        "# show images\n",
        "imshow(torchvision.utils.make_grid(images))\n",
        "# print labels\n",
        "print(' '.join(f'{classes[labels[j]]:5s}' for j in range(batch_size)))"
      ]
    },
    {
      "cell_type": "code",
      "execution_count": 12,
      "id": "b5ca749a",
      "metadata": {
        "tags": [],
        "id": "b5ca749a"
      },
      "outputs": [],
      "source": [
        "class MLP(nn.Module):\n",
        "    def __init__(self, neurons_layer1):\n",
        "        super(MLP, self).__init__()\n",
        "        self.layer1 = nn.Linear(784, neurons_layer1) # 第一隐藏层神经元数量由参数决定\n",
        "        self.relu = nn.ReLU()\n",
        "        self.layer2 = nn.Linear(neurons_layer1, 100) # 第二隐藏层神经元数量固定为 100\n",
        "        self.layer3 = nn.Linear(100, 10)             # 输出层\n",
        "\n",
        "    def forward(self, x):\n",
        "        x = x.reshape(-1, 28*28)\n",
        "        x = self.layer1(x)\n",
        "        x = self.relu(x)\n",
        "        x = self.layer2(x)\n",
        "        x = self.relu(x)\n",
        "        y = self.layer3(x)\n",
        "        return y\n",
        "\n",
        "# 实例化\n",
        "mlp_10_neurons = MLP(10)\n",
        "mlp_20_neurons = MLP(20)  #  50 个神经元\n",
        "mlp_50_neurons = MLP(50)\n",
        "mlp_100_neurons = MLP(100)\n",
        "mlp_200_neurons = MLP(200)\n",
        "#layer1"
      ]
    },
    {
      "cell_type": "code",
      "execution_count": 13,
      "id": "c338900a-4322-4851-96ae-291b2660b737",
      "metadata": {
        "id": "c338900a-4322-4851-96ae-291b2660b737"
      },
      "outputs": [],
      "source": [
        "mlp_models = {\n",
        "    10: MLP(10),\n",
        "    20: MLP(20),\n",
        "    50: MLP(50),\n",
        "    100: MLP(100),\n",
        "    200: MLP(200)\n",
        "}"
      ]
    },
    {
      "cell_type": "code",
      "execution_count": 14,
      "id": "f7208aad",
      "metadata": {
        "tags": [],
        "colab": {
          "base_uri": "https://localhost:8080/"
        },
        "id": "f7208aad",
        "outputId": "fe340c9c-b31b-45e4-abad-409d18771246"
      },
      "outputs": [
        {
          "output_type": "stream",
          "name": "stdout",
          "text": [
            "[1,  2000] loss: 1.135\n",
            "[1,  4000] loss: 0.441\n",
            "[1,  6000] loss: 0.355\n",
            "[1,  8000] loss: 0.316\n",
            "[1, 10000] loss: 0.316\n",
            "[1, 12000] loss: 0.286\n",
            "[1, 14000] loss: 0.292\n",
            "[2,  2000] loss: 0.247\n",
            "[2,  4000] loss: 0.261\n",
            "[2,  6000] loss: 0.238\n",
            "[2,  8000] loss: 0.236\n",
            "[2, 10000] loss: 0.210\n",
            "[2, 12000] loss: 0.224\n",
            "[2, 14000] loss: 0.211\n",
            "[1,  2000] loss: 1.107\n",
            "[1,  4000] loss: 0.426\n",
            "[1,  6000] loss: 0.386\n",
            "[1,  8000] loss: 0.310\n",
            "[1, 10000] loss: 0.300\n",
            "[1, 12000] loss: 0.264\n",
            "[1, 14000] loss: 0.274\n",
            "[2,  2000] loss: 0.226\n",
            "[2,  4000] loss: 0.217\n",
            "[2,  6000] loss: 0.209\n",
            "[2,  8000] loss: 0.209\n",
            "[2, 10000] loss: 0.197\n",
            "[2, 12000] loss: 0.207\n",
            "[2, 14000] loss: 0.185\n",
            "[1,  2000] loss: 1.143\n",
            "[1,  4000] loss: 0.414\n",
            "[1,  6000] loss: 0.346\n",
            "[1,  8000] loss: 0.298\n",
            "[1, 10000] loss: 0.279\n",
            "[1, 12000] loss: 0.258\n",
            "[1, 14000] loss: 0.234\n",
            "[2,  2000] loss: 0.204\n",
            "[2,  4000] loss: 0.190\n",
            "[2,  6000] loss: 0.176\n",
            "[2,  8000] loss: 0.172\n",
            "[2, 10000] loss: 0.161\n",
            "[2, 12000] loss: 0.155\n",
            "[2, 14000] loss: 0.146\n",
            "[1,  2000] loss: 1.189\n",
            "[1,  4000] loss: 0.405\n",
            "[1,  6000] loss: 0.334\n",
            "[1,  8000] loss: 0.308\n",
            "[1, 10000] loss: 0.272\n",
            "[1, 12000] loss: 0.247\n",
            "[1, 14000] loss: 0.220\n",
            "[2,  2000] loss: 0.180\n",
            "[2,  4000] loss: 0.172\n",
            "[2,  6000] loss: 0.160\n",
            "[2,  8000] loss: 0.150\n",
            "[2, 10000] loss: 0.154\n",
            "[2, 12000] loss: 0.148\n",
            "[2, 14000] loss: 0.144\n",
            "[1,  2000] loss: 1.176\n",
            "[1,  4000] loss: 0.408\n",
            "[1,  6000] loss: 0.339\n",
            "[1,  8000] loss: 0.293\n",
            "[1, 10000] loss: 0.248\n",
            "[1, 12000] loss: 0.233\n",
            "[1, 14000] loss: 0.209\n",
            "[2,  2000] loss: 0.175\n",
            "[2,  4000] loss: 0.154\n",
            "[2,  6000] loss: 0.153\n",
            "[2,  8000] loss: 0.138\n",
            "[2, 10000] loss: 0.141\n",
            "[2, 12000] loss: 0.129\n",
            "[2, 14000] loss: 0.128\n",
            "Finished Training\n"
          ]
        }
      ],
      "source": [
        "#Define a Loss function and optimizer\n",
        "loss_func = nn.CrossEntropyLoss()\n",
        "\n",
        "# criterion = nn.CrossEntropyLoss()  #交叉熵损失\n",
        "for neuron_count, mlp in mlp_models.items():\n",
        "    # 为每个模型创建一个新的优化器\n",
        "    optimizer = torch.optim.SGD(mlp.parameters(), lr=0.001, momentum=0.9)\n",
        "##Train the network\n",
        "    mlp.train()\n",
        "    for epoch in range(num_epochs):  # loop over the dataset multiple times\n",
        "        running_loss = 0.0\n",
        "        for i, (images, labels) in enumerate(train_loader): ## get the inputs; data is a list of [inputs, labels]\n",
        "            optimizer.zero_grad()    # zero the parameter gradients 清零梯度\n",
        "            # forward + backward + optimize\n",
        "            outputs = mlp(images)\n",
        "            loss = loss_func(outputs, labels)\n",
        "            loss.backward()                                #反向求梯度\n",
        "            optimizer.step()\n",
        "            running_loss += loss.item()\n",
        "            if i % 2000 == 1999:\n",
        "                print(f'[{epoch + 1}, {i + 1:5d}] loss: {running_loss / 2000:.3f}')\n",
        "                running_loss = 0.0\n",
        "\n",
        "print('Finished Training')"
      ]
    },
    {
      "cell_type": "code",
      "execution_count": 15,
      "id": "9081e1f3",
      "metadata": {
        "tags": [],
        "colab": {
          "base_uri": "https://localhost:8080/",
          "height": 212
        },
        "id": "9081e1f3",
        "outputId": "bc8575a4-0874-42f6-9f29-29fd88467bf2"
      },
      "outputs": [
        {
          "output_type": "display_data",
          "data": {
            "text/plain": [
              "<Figure size 640x480 with 1 Axes>"
            ],
            "image/png": "[encoded data removed]"
          },
          "metadata": {}
        },
        {
          "output_type": "stream",
          "name": "stdout",
          "text": [
            "GroundTruth:  7     2     1     0    \n"
          ]
        }
      ],
      "source": [
        "#Test the network on the test data\n",
        "#display an image from the test set to look\n",
        "dataiter = iter(test_loader)\n",
        "images, labels = next(dataiter)\n",
        "\n",
        "# print images\n",
        "imshow(torchvision.utils.make_grid(images))\n",
        "print('GroundTruth: ', ' '.join(f'{classes[labels[j]]:5s}' for j in range(4)))"
      ]
    },
    {
      "cell_type": "code",
      "execution_count": 18,
      "id": "9ed7a502",
      "metadata": {
        "tags": [],
        "colab": {
          "base_uri": "https://localhost:8080/"
        },
        "id": "9ed7a502",
        "outputId": "467f4061-926f-4291-bd83-dab8564235df"
      },
      "outputs": [
        {
          "output_type": "stream",
          "name": "stdout",
          "text": [
            "Accuracy（10 neurons）: 93.9200%\n",
            "Accuracy（20 neurons）: 94.7100%\n",
            "Accuracy（50 neurons）: 95.4400%\n",
            "Accuracy（100 neurons）: 96.1900%\n",
            "Accuracy（200 neurons）: 96.6700%\n"
          ]
        }
      ],
      "source": [
        "accuracy_data = {}  # 用于存储不同神经元数量的准确率\n",
        "\n",
        "for neuron_count, mlp in mlp_models.items():\n",
        "    correct = 0\n",
        "    total = 0\n",
        "    mlp.eval()  # 测试模式\n",
        "    with torch.no_grad():\n",
        "        for images, labels in test_loader:\n",
        "            outputs = mlp(images)\n",
        "            _, predicted = torch.max(outputs, 1)\n",
        "            total += labels.size(0)\n",
        "            correct += (predicted == labels).sum().item()\n",
        "\n",
        "    accuracy = 100.0 * correct / total\n",
        "    accuracy_data[neuron_count] = accuracy  # 存储准确率\n",
        "    print(f'Accuracy（{neuron_count} neurons）: {accuracy:.4f}%')\n"
      ]
    },
    {
      "cell_type": "code",
      "source": [
        "import matplotlib.pyplot as plt\n",
        "\n",
        "# 提取神经元数量和相应的准确率\n",
        "neuron_counts = list(accuracy_data.keys())\n",
        "accuracies = list(accuracy_data.values())\n",
        "\n",
        "# 绘制柱状图\n",
        "plt.plot(neuron_counts, accuracies, marker='o')\n",
        "\n",
        "# 设置图表标题和坐标轴标签\n",
        "plt.title('Accuracy vs Number of Neurons of layer1 in MLP2')\n",
        "plt.xlabel('Number of Neurons in hidden layer1')\n",
        "plt.ylabel('Accuracy (%)')\n",
        "#限定范围\n",
        "plt.ylim(90, 100)\n",
        "\n",
        "# 显示图表\n",
        "plt.show()\n"
      ],
      "metadata": {
        "colab": {
          "base_uri": "https://localhost:8080/",
          "height": 472
        },
        "id": "EamLkL_X4QES",
        "outputId": "bb7bc96e-579e-4ac7-b4f4-33acffd08122"
      },
      "id": "EamLkL_X4QES",
      "execution_count": 20,
      "outputs": [
        {
          "output_type": "display_data",
          "data": {
            "text/plain": [
              "<Figure size 640x480 with 1 Axes>"
            ],
            "image/png": "[encoded data removed]"
          },
          "metadata": {}
        }
      ]
    },
    {
      "cell_type": "code",
      "execution_count": null,
      "id": "1dd33730",
      "metadata": {
        "tags": [],
        "id": "1dd33730",
        "outputId": "c16c9e36-4428-4553-ee85-885c8f19000b"
      },
      "outputs": [
        {
          "name": "stdout",
          "output_type": "stream",
          "text": [
            "Accuracy of the network on the 10000 test images: 96 %\n"
          ]
        }
      ],
      "source": [
        "#Let us look at how the network performs on the whole dataset.\n",
        "correct = 0\n",
        "total = 0\n",
        "# since we're not training, we don't need to calculate the gradients for our outputs\n",
        "with torch.no_grad():\n",
        "    for data in test_loader:\n",
        "        images, labels = data\n",
        "        # calculate outputs by running images through the network\n",
        "        outputs = mlp(images)\n",
        "        # the class with the highest energy is what we choose as prediction\n",
        "        _, predicted = torch.max(outputs.data, 1)\n",
        "        total += labels.size(0)\n",
        "        correct += (predicted == labels).sum().item()\n",
        "\n",
        "print(f'Accuracy of the network on the 10000 test images: {100 * correct // total} %')"
      ]
    },
    {
      "cell_type": "code",
      "execution_count": null,
      "id": "a196db5e",
      "metadata": {
        "tags": [],
        "id": "a196db5e",
        "outputId": "ca8dd4f3-7ab1-489a-8802-9a04c665fcc3"
      },
      "outputs": [
        {
          "name": "stdout",
          "output_type": "stream",
          "text": [
            "Accuracy for class: 0     is 98.1 %\n",
            "Accuracy for class: 1     is 98.9 %\n",
            "Accuracy for class: 2     is 96.5 %\n",
            "Accuracy for class: 3     is 98.1 %\n",
            "Accuracy for class: 4     is 98.0 %\n",
            "Accuracy for class: 5     is 94.3 %\n",
            "Accuracy for class: 6     is 96.9 %\n",
            "Accuracy for class: 7     is 95.7 %\n",
            "Accuracy for class: 8     is 95.4 %\n",
            "Accuracy for class: 9     is 93.2 %\n"
          ]
        }
      ],
      "source": [
        "# what are the classes that performed well, and the classes that did not perform well:\n",
        "# prepare to count predictions for each class\n",
        "correct_pred = {classname: 0 for classname in classes}\n",
        "total_pred = {classname: 0 for classname in classes}\n",
        "\n",
        "# again no gradients needed\n",
        "with torch.no_grad():\n",
        "    for data in test_loader:\n",
        "        images, labels = data\n",
        "        outputs = mlp(images)\n",
        "        _, predictions = torch.max(outputs, 1)\n",
        "        # collect the correct predictions for each class\n",
        "        for label, prediction in zip(labels, predictions):\n",
        "            if label == prediction:\n",
        "                correct_pred[classes[label]] += 1\n",
        "            total_pred[classes[label]] += 1\n",
        "\n",
        "\n",
        "# print accuracy for each class\n",
        "for classname, correct_count in correct_pred.items():\n",
        "    accuracy = 100 * float(correct_count) / total_pred[classname]\n",
        "    print(f'Accuracy for class: {classname:5s} is {accuracy:.1f} %')"
      ]
    },
    {
      "cell_type": "code",
      "execution_count": null,
      "id": "b3ae4194",
      "metadata": {
        "tags": [],
        "id": "b3ae4194",
        "outputId": "1bcbea09-cd3a-49a6-b995-9699566269d5"
      },
      "outputs": [
        {
          "name": "stdout",
          "output_type": "stream",
          "text": [
            "----------------------  ------------  ------------  ------------  ------------  ------------  ------------  \n",
            "                  Name    Self CPU %      Self CPU   CPU total %     CPU total  CPU time avg    # of Calls  \n",
            "----------------------  ------------  ------------  ------------  ------------  ------------  ------------  \n",
            "       model_inference        40.33%     169.000us       100.00%     419.000us     419.000us             1  \n",
            "          aten::linear         3.82%      16.000us        49.88%     209.000us      69.667us             3  \n",
            "           aten::addmm        32.94%     138.000us        38.19%     160.000us      53.333us             3  \n",
            "               aten::t         5.01%      21.000us         7.88%      33.000us      11.000us             3  \n",
            "            aten::relu         3.58%      15.000us         6.44%      27.000us      13.500us             2  \n",
            "         aten::reshape         1.19%       5.000us         3.34%      14.000us      14.000us             1  \n",
            "           aten::copy_         3.34%      14.000us         3.34%      14.000us       4.667us             3  \n",
            "       aten::transpose         2.15%       9.000us         2.86%      12.000us       4.000us             3  \n",
            "       aten::clamp_min         2.86%      12.000us         2.86%      12.000us       6.000us             2  \n",
            "            aten::view         2.15%       9.000us         2.15%       9.000us       9.000us             1  \n",
            "----------------------  ------------  ------------  ------------  ------------  ------------  ------------  \n",
            "Self CPU time total: 419.000us\n",
            "\n"
          ]
        }
      ],
      "source": [
        "#Use PyTorch Profiler to characterize\n",
        "#execution time and memory consumption\n",
        "from torch.profiler import profile, record_function, ProfilerActivity\n",
        "\n",
        "#Using profiler to analyze execution time\n",
        "with profile(activities=[ProfilerActivity.CPU], record_shapes=True) as prof:\n",
        "    with record_function(\"model_inference\"):\n",
        "        mlp(images)\n",
        "\n",
        "print(prof.key_averages().table(sort_by=\"cpu_time_total\", row_limit=10))"
      ]
    },
    {
      "cell_type": "code",
      "execution_count": null,
      "id": "e1b45ac5",
      "metadata": {
        "tags": [],
        "id": "e1b45ac5"
      },
      "outputs": [],
      "source": [
        "# print(prof.key_averages(group_by_input_shape=True).table(sort_by=\"cpu_time_total\", row_limit=10))"
      ]
    },
    {
      "cell_type": "code",
      "execution_count": null,
      "id": "00ff0330",
      "metadata": {
        "tags": [],
        "id": "00ff0330",
        "outputId": "42096f2c-8876-496c-ca15-d1bfb93eeb20"
      },
      "outputs": [
        {
          "name": "stdout",
          "output_type": "stream",
          "text": [
            "----------------------  ------------  ------------  ------------  ------------  ------------  ------------  ------------  ------------  \n",
            "                  Name    Self CPU %      Self CPU   CPU total %     CPU total  CPU time avg       CPU Mem  Self CPU Mem    # of Calls  \n",
            "----------------------  ------------  ------------  ------------  ------------  ------------  ------------  ------------  ------------  \n",
            "          aten::linear         3.89%      15.000us        84.46%     326.000us     108.667us       6.41 Kb           0 b             3  \n",
            "           aten::addmm        60.36%     233.000us        70.47%     272.000us      90.667us       6.41 Kb       6.41 Kb             3  \n",
            "               aten::t         5.96%      23.000us        10.10%      39.000us      13.000us           0 b           0 b             3  \n",
            "            aten::relu         5.44%      21.000us        10.10%      39.000us      19.500us       6.25 Kb           0 b             2  \n",
            "         aten::reshape         1.04%       4.000us         5.44%      21.000us      21.000us           0 b           0 b             1  \n",
            "          aten::expand         2.59%      10.000us         5.44%      21.000us       7.000us           0 b           0 b             3  \n",
            "           aten::copy_         4.66%      18.000us         4.66%      18.000us       6.000us           0 b           0 b             3  \n",
            "       aten::clamp_min         4.66%      18.000us         4.66%      18.000us       9.000us       6.25 Kb       6.25 Kb             2  \n",
            "            aten::view         4.40%      17.000us         4.40%      17.000us      17.000us           0 b           0 b             1  \n",
            "       aten::transpose         3.11%      12.000us         4.15%      16.000us       5.333us           0 b           0 b             3  \n",
            "----------------------  ------------  ------------  ------------  ------------  ------------  ------------  ------------  ------------  \n",
            "Self CPU time total: 386.000us\n",
            "\n"
          ]
        }
      ],
      "source": [
        "#Using profiler to analyze memory consumption\n",
        "\n",
        "with profile(activities=[ProfilerActivity.CPU],\n",
        "        profile_memory=True, record_shapes=True) as prof:\n",
        "    mlp(images)\n",
        "\n",
        "#print(prof.key_averages().table(sort_by=\"self_cpu_memory_usage\", row_limit=10))\n",
        "print(prof.key_averages().table(sort_by=\"cpu_time_total\", row_limit=10))"
      ]
    },
    {
      "cell_type": "code",
      "execution_count": null,
      "id": "809b464c",
      "metadata": {
        "id": "809b464c"
      },
      "outputs": [],
      "source": []
    }
  ],
  "metadata": {
    "kernelspec": {
      "display_name": "Python 3",
      "name": "python3"
    },
    "language_info": {
      "codemirror_mode": {
        "name": "ipython",
        "version": 3
      },
      "file_extension": ".py",
      "mimetype": "text/x-python",
      "name": "python",
      "nbconvert_exporter": "python",
      "pygments_lexer": "ipython3",
      "version": "3.11.5"
    },
    "colab": {
      "provenance": [],
      "gpuType": "T4"
    },
    "accelerator": "GPU"
  },
  "nbformat": 4,
  "nbformat_minor": 5
}